{
  "nbformat": 4,
  "nbformat_minor": 0,
  "metadata": {
    "colab": {
      "provenance": [],
      "gpuType": "T4",
      "authorship_tag": "ABX9TyPRgp6Zbzn3Tl6xVtb25S4v",
      "include_colab_link": true
    },
    "kernelspec": {
      "name": "python3",
      "display_name": "Python 3"
    },
    "language_info": {
      "name": "python"
    },
    "accelerator": "GPU"
  },
  "cells": [
    {
      "cell_type": "markdown",
      "metadata": {
        "id": "view-in-github",
        "colab_type": "text"
      },
      "source": [
        "<a href=\"https://colab.research.google.com/github/achraf-halla/ADME/blob/Solubility-Property/Copy_of_Solubility_AqSolDB_dc_V2.ipynb\" target=\"_parent\"><img src=\"https://colab.research.google.com/assets/colab-badge.svg\" alt=\"Open In Colab\"/></a>"
      ]
    },
    {
      "cell_type": "markdown",
      "source": [
        "**We will continue to work on the task of predicting the solubilty of Molucules using the the \"AqSolDB Solubility\" dataset from TDC, but this Time we will try to leverage some helpful tools from deepchem library**"
      ],
      "metadata": {
        "id": "4UJ2oZ24ykIC"
      }
    },
    {
      "cell_type": "code",
      "execution_count": 1,
      "metadata": {
        "colab": {
          "base_uri": "https://localhost:8080/",
          "height": 1000
        },
        "id": "JrV6A9pSyZbt",
        "outputId": "02d4f3db-febb-4897-c51a-be6a2158a66c"
      },
      "outputs": [
        {
          "output_type": "stream",
          "name": "stdout",
          "text": [
            "Collecting PyTDC\n",
            "  Downloading pytdc-1.1.15.tar.gz (154 kB)\n",
            "\u001b[?25l     \u001b[90m━━━━━━━━━━━━━━━━━━━━━━━━━━━━━━━━━━━━━━━━\u001b[0m \u001b[32m0.0/154.2 kB\u001b[0m \u001b[31m?\u001b[0m eta \u001b[36m-:--:--\u001b[0m\r\u001b[2K     \u001b[91m━━━━━━━━━━━━━━━━━━━━━━━━━━━━━━━━━━━━━━\u001b[0m\u001b[91m╸\u001b[0m \u001b[32m153.6/154.2 kB\u001b[0m \u001b[31m4.9 MB/s\u001b[0m eta \u001b[36m0:00:01\u001b[0m\r\u001b[2K     \u001b[90m━━━━━━━━━━━━━━━━━━━━━━━━━━━━━━━━━━━━━━━\u001b[0m \u001b[32m154.2/154.2 kB\u001b[0m \u001b[31m2.9 MB/s\u001b[0m eta \u001b[36m0:00:00\u001b[0m\n",
            "\u001b[?25h  Preparing metadata (setup.py) ... \u001b[?25l\u001b[?25hdone\n",
            "Collecting accelerate==0.33.0 (from PyTDC)\n",
            "  Downloading accelerate-0.33.0-py3-none-any.whl.metadata (18 kB)\n",
            "Collecting dataclasses<1.0,>=0.6 (from PyTDC)\n",
            "  Downloading dataclasses-0.6-py3-none-any.whl.metadata (3.0 kB)\n",
            "Collecting datasets<2.20.0 (from PyTDC)\n",
            "  Downloading datasets-2.19.2-py3-none-any.whl.metadata (19 kB)\n",
            "Collecting evaluate==0.4.2 (from PyTDC)\n",
            "  Downloading evaluate-0.4.2-py3-none-any.whl.metadata (9.3 kB)\n",
            "Collecting fuzzywuzzy<1.0,>=0.18.0 (from PyTDC)\n",
            "  Downloading fuzzywuzzy-0.18.0-py2.py3-none-any.whl.metadata (4.9 kB)\n",
            "Requirement already satisfied: huggingface_hub<1.0,>=0.20.3 in /usr/local/lib/python3.11/dist-packages (from PyTDC) (0.30.2)\n",
            "Collecting numpy<2.0.0,>=1.26.4 (from PyTDC)\n",
            "  Downloading numpy-1.26.4-cp311-cp311-manylinux_2_17_x86_64.manylinux2014_x86_64.whl.metadata (61 kB)\n",
            "\u001b[2K     \u001b[90m━━━━━━━━━━━━━━━━━━━━━━━━━━━━━━━━━━━━━━━\u001b[0m \u001b[32m61.0/61.0 kB\u001b[0m \u001b[31m522.9 kB/s\u001b[0m eta \u001b[36m0:00:00\u001b[0m\n",
            "\u001b[?25hRequirement already satisfied: openpyxl<4.0.0,>=3.0.10 in /usr/local/lib/python3.11/dist-packages (from PyTDC) (3.1.5)\n",
            "Requirement already satisfied: pandas<3.0.0,>=2.1.4 in /usr/local/lib/python3.11/dist-packages (from PyTDC) (2.2.2)\n",
            "Requirement already satisfied: requests<3.0.0,>=2.31.0 in /usr/local/lib/python3.11/dist-packages (from PyTDC) (2.32.3)\n",
            "Requirement already satisfied: scikit-learn>=1.2.2 in /usr/local/lib/python3.11/dist-packages (from PyTDC) (1.6.1)\n",
            "Requirement already satisfied: seaborn<1.0.0,>=0.12.2 in /usr/local/lib/python3.11/dist-packages (from PyTDC) (0.13.2)\n",
            "Requirement already satisfied: tqdm<5.0.0,>=4.65.0 in /usr/local/lib/python3.11/dist-packages (from PyTDC) (4.67.1)\n",
            "Collecting transformers<4.51.0,>=4.43.0 (from PyTDC)\n",
            "  Downloading transformers-4.50.3-py3-none-any.whl.metadata (39 kB)\n",
            "Collecting cellxgene-census==1.15.0 (from PyTDC)\n",
            "  Downloading cellxgene_census-1.15.0-py3-none-any.whl.metadata (5.2 kB)\n",
            "Collecting gget<1.0.0,>=0.28.4 (from PyTDC)\n",
            "  Downloading gget-0.29.1-py3-none-any.whl.metadata (7.9 kB)\n",
            "Requirement already satisfied: pydantic<3.0.0,>=2.6.3 in /usr/local/lib/python3.11/dist-packages (from PyTDC) (2.11.4)\n",
            "Collecting rdkit<2024.3.1,>=2023.9.5 (from PyTDC)\n",
            "  Downloading rdkit-2023.9.6-cp311-cp311-manylinux_2_17_x86_64.manylinux2014_x86_64.whl.metadata (3.9 kB)\n",
            "Collecting tiledbsoma<2.0.0,>=1.7.2 (from PyTDC)\n",
            "  Downloading tiledbsoma-1.16.2-cp311-cp311-manylinux_2_28_x86_64.whl.metadata (7.0 kB)\n",
            "Requirement already satisfied: packaging>=20.0 in /usr/local/lib/python3.11/dist-packages (from accelerate==0.33.0->PyTDC) (24.2)\n",
            "Requirement already satisfied: psutil in /usr/local/lib/python3.11/dist-packages (from accelerate==0.33.0->PyTDC) (5.9.5)\n",
            "Requirement already satisfied: pyyaml in /usr/local/lib/python3.11/dist-packages (from accelerate==0.33.0->PyTDC) (6.0.2)\n",
            "Requirement already satisfied: torch>=1.10.0 in /usr/local/lib/python3.11/dist-packages (from accelerate==0.33.0->PyTDC) (2.6.0+cu124)\n",
            "Requirement already satisfied: safetensors>=0.3.1 in /usr/local/lib/python3.11/dist-packages (from accelerate==0.33.0->PyTDC) (0.5.3)\n",
            "  Downloading tiledbsoma-1.11.4-cp311-cp311-manylinux_2_17_x86_64.manylinux2014_x86_64.whl.metadata (5.7 kB)\n",
            "Collecting anndata (from cellxgene-census==1.15.0->PyTDC)\n",
            "  Downloading anndata-0.11.4-py3-none-any.whl.metadata (9.3 kB)\n",
            "Requirement already satisfied: typing-extensions in /usr/local/lib/python3.11/dist-packages (from cellxgene-census==1.15.0->PyTDC) (4.13.2)\n",
            "Collecting s3fs>=2021.06.1 (from cellxgene-census==1.15.0->PyTDC)\n",
            "  Downloading s3fs-2025.3.2-py3-none-any.whl.metadata (1.9 kB)\n",
            "Collecting dill (from evaluate==0.4.2->PyTDC)\n",
            "  Downloading dill-0.4.0-py3-none-any.whl.metadata (10 kB)\n",
            "Collecting xxhash (from evaluate==0.4.2->PyTDC)\n",
            "  Downloading xxhash-3.5.0-cp311-cp311-manylinux_2_17_x86_64.manylinux2014_x86_64.whl.metadata (12 kB)\n",
            "Collecting multiprocess (from evaluate==0.4.2->PyTDC)\n",
            "  Downloading multiprocess-0.70.18-py311-none-any.whl.metadata (7.5 kB)\n",
            "Requirement already satisfied: fsspec>=2021.05.0 in /usr/local/lib/python3.11/dist-packages (from fsspec[http]>=2021.05.0->evaluate==0.4.2->PyTDC) (2025.3.2)\n",
            "Requirement already satisfied: filelock in /usr/local/lib/python3.11/dist-packages (from datasets<2.20.0->PyTDC) (3.18.0)\n",
            "Requirement already satisfied: pyarrow>=12.0.0 in /usr/local/lib/python3.11/dist-packages (from datasets<2.20.0->PyTDC) (18.1.0)\n",
            "Collecting pyarrow-hotfix (from datasets<2.20.0->PyTDC)\n",
            "  Downloading pyarrow_hotfix-0.7-py3-none-any.whl.metadata (3.6 kB)\n",
            "Collecting dill (from evaluate==0.4.2->PyTDC)\n",
            "  Downloading dill-0.3.8-py3-none-any.whl.metadata (10 kB)\n",
            "Collecting fsspec>=2021.05.0 (from fsspec[http]>=2021.05.0->evaluate==0.4.2->PyTDC)\n",
            "  Downloading fsspec-2024.3.1-py3-none-any.whl.metadata (6.8 kB)\n",
            "Requirement already satisfied: aiohttp in /usr/local/lib/python3.11/dist-packages (from datasets<2.20.0->PyTDC) (3.11.15)\n",
            "Requirement already satisfied: ipython in /usr/local/lib/python3.11/dist-packages (from gget<1.0.0,>=0.28.4->PyTDC) (7.34.0)\n",
            "Requirement already satisfied: matplotlib in /usr/local/lib/python3.11/dist-packages (from gget<1.0.0,>=0.28.4->PyTDC) (3.10.0)\n",
            "Collecting mysql-connector-python>=8.0.32 (from gget<1.0.0,>=0.28.4->PyTDC)\n",
            "  Downloading mysql_connector_python-9.3.0-cp311-cp311-manylinux_2_28_x86_64.whl.metadata (7.2 kB)\n",
            "Requirement already satisfied: beautifulsoup4>=4.10.0 in /usr/local/lib/python3.11/dist-packages (from gget<1.0.0,>=0.28.4->PyTDC) (4.13.4)\n",
            "Requirement already satisfied: ipywidgets in /usr/local/lib/python3.11/dist-packages (from gget<1.0.0,>=0.28.4->PyTDC) (7.7.1)\n",
            "Requirement already satisfied: lxml in /usr/local/lib/python3.11/dist-packages (from gget<1.0.0,>=0.28.4->PyTDC) (5.4.0)\n",
            "Requirement already satisfied: et-xmlfile in /usr/local/lib/python3.11/dist-packages (from openpyxl<4.0.0,>=3.0.10->PyTDC) (2.0.0)\n",
            "Requirement already satisfied: python-dateutil>=2.8.2 in /usr/local/lib/python3.11/dist-packages (from pandas<3.0.0,>=2.1.4->PyTDC) (2.9.0.post0)\n",
            "Requirement already satisfied: pytz>=2020.1 in /usr/local/lib/python3.11/dist-packages (from pandas<3.0.0,>=2.1.4->PyTDC) (2025.2)\n",
            "Requirement already satisfied: tzdata>=2022.7 in /usr/local/lib/python3.11/dist-packages (from pandas<3.0.0,>=2.1.4->PyTDC) (2025.2)\n",
            "Requirement already satisfied: annotated-types>=0.6.0 in /usr/local/lib/python3.11/dist-packages (from pydantic<3.0.0,>=2.6.3->PyTDC) (0.7.0)\n",
            "Requirement already satisfied: pydantic-core==2.33.2 in /usr/local/lib/python3.11/dist-packages (from pydantic<3.0.0,>=2.6.3->PyTDC) (2.33.2)\n",
            "Requirement already satisfied: typing-inspection>=0.4.0 in /usr/local/lib/python3.11/dist-packages (from pydantic<3.0.0,>=2.6.3->PyTDC) (0.4.0)\n",
            "Requirement already satisfied: Pillow in /usr/local/lib/python3.11/dist-packages (from rdkit<2024.3.1,>=2023.9.5->PyTDC) (11.2.1)\n",
            "Requirement already satisfied: charset-normalizer<4,>=2 in /usr/local/lib/python3.11/dist-packages (from requests<3.0.0,>=2.31.0->PyTDC) (3.4.1)\n",
            "Requirement already satisfied: idna<4,>=2.5 in /usr/local/lib/python3.11/dist-packages (from requests<3.0.0,>=2.31.0->PyTDC) (3.10)\n",
            "Requirement already satisfied: urllib3<3,>=1.21.1 in /usr/local/lib/python3.11/dist-packages (from requests<3.0.0,>=2.31.0->PyTDC) (2.4.0)\n",
            "Requirement already satisfied: certifi>=2017.4.17 in /usr/local/lib/python3.11/dist-packages (from requests<3.0.0,>=2.31.0->PyTDC) (2025.4.26)\n",
            "Requirement already satisfied: scipy>=1.6.0 in /usr/local/lib/python3.11/dist-packages (from scikit-learn>=1.2.2->PyTDC) (1.15.2)\n",
            "Requirement already satisfied: joblib>=1.2.0 in /usr/local/lib/python3.11/dist-packages (from scikit-learn>=1.2.2->PyTDC) (1.4.2)\n",
            "Requirement already satisfied: threadpoolctl>=3.1.0 in /usr/local/lib/python3.11/dist-packages (from scikit-learn>=1.2.2->PyTDC) (3.6.0)\n",
            "Requirement already satisfied: attrs>=22.2 in /usr/local/lib/python3.11/dist-packages (from tiledbsoma<2.0.0,>=1.7.2->PyTDC) (25.3.0)\n",
            "Requirement already satisfied: numba>=0.58.0 in /usr/local/lib/python3.11/dist-packages (from tiledbsoma<2.0.0,>=1.7.2->PyTDC) (0.60.0)\n",
            "Collecting scanpy>=1.9.2 (from tiledbsoma<2.0.0,>=1.7.2->PyTDC)\n",
            "  Downloading scanpy-1.11.1-py3-none-any.whl.metadata (9.9 kB)\n",
            "Collecting somacore==1.0.11 (from tiledbsoma<2.0.0,>=1.7.2->PyTDC)\n",
            "  Downloading somacore-1.0.11-py3-none-any.whl.metadata (1.5 kB)\n",
            "Collecting tiledb~=0.29.0 (from tiledbsoma<2.0.0,>=1.7.2->PyTDC)\n",
            "  Downloading tiledb-0.29.1-cp311-cp311-manylinux_2_17_x86_64.manylinux2014_x86_64.whl.metadata (3.6 kB)\n",
            "Requirement already satisfied: regex!=2019.12.17 in /usr/local/lib/python3.11/dist-packages (from transformers<4.51.0,>=4.43.0->PyTDC) (2024.11.6)\n",
            "Requirement already satisfied: tokenizers<0.22,>=0.21 in /usr/local/lib/python3.11/dist-packages (from transformers<4.51.0,>=4.43.0->PyTDC) (0.21.1)\n",
            "Collecting array-api-compat!=1.5,>1.4 (from anndata->cellxgene-census==1.15.0->PyTDC)\n",
            "  Downloading array_api_compat-1.11.2-py3-none-any.whl.metadata (1.9 kB)\n",
            "Requirement already satisfied: h5py>=3.7 in /usr/local/lib/python3.11/dist-packages (from anndata->cellxgene-census==1.15.0->PyTDC) (3.13.0)\n",
            "Requirement already satisfied: natsort in /usr/local/lib/python3.11/dist-packages (from anndata->cellxgene-census==1.15.0->PyTDC) (8.4.0)\n",
            "Requirement already satisfied: soupsieve>1.2 in /usr/local/lib/python3.11/dist-packages (from beautifulsoup4>=4.10.0->gget<1.0.0,>=0.28.4->PyTDC) (2.7)\n",
            "Requirement already satisfied: aiohappyeyeballs>=2.3.0 in /usr/local/lib/python3.11/dist-packages (from aiohttp->datasets<2.20.0->PyTDC) (2.6.1)\n",
            "Requirement already satisfied: aiosignal>=1.1.2 in /usr/local/lib/python3.11/dist-packages (from aiohttp->datasets<2.20.0->PyTDC) (1.3.2)\n",
            "Requirement already satisfied: frozenlist>=1.1.1 in /usr/local/lib/python3.11/dist-packages (from aiohttp->datasets<2.20.0->PyTDC) (1.6.0)\n",
            "Requirement already satisfied: multidict<7.0,>=4.5 in /usr/local/lib/python3.11/dist-packages (from aiohttp->datasets<2.20.0->PyTDC) (6.4.3)\n",
            "Requirement already satisfied: propcache>=0.2.0 in /usr/local/lib/python3.11/dist-packages (from aiohttp->datasets<2.20.0->PyTDC) (0.3.1)\n",
            "Requirement already satisfied: yarl<2.0,>=1.17.0 in /usr/local/lib/python3.11/dist-packages (from aiohttp->datasets<2.20.0->PyTDC) (1.20.0)\n",
            "Requirement already satisfied: contourpy>=1.0.1 in /usr/local/lib/python3.11/dist-packages (from matplotlib->gget<1.0.0,>=0.28.4->PyTDC) (1.3.2)\n",
            "Requirement already satisfied: cycler>=0.10 in /usr/local/lib/python3.11/dist-packages (from matplotlib->gget<1.0.0,>=0.28.4->PyTDC) (0.12.1)\n",
            "Requirement already satisfied: fonttools>=4.22.0 in /usr/local/lib/python3.11/dist-packages (from matplotlib->gget<1.0.0,>=0.28.4->PyTDC) (4.57.0)\n",
            "Requirement already satisfied: kiwisolver>=1.3.1 in /usr/local/lib/python3.11/dist-packages (from matplotlib->gget<1.0.0,>=0.28.4->PyTDC) (1.4.8)\n",
            "Requirement already satisfied: pyparsing>=2.3.1 in /usr/local/lib/python3.11/dist-packages (from matplotlib->gget<1.0.0,>=0.28.4->PyTDC) (3.2.3)\n",
            "Requirement already satisfied: llvmlite<0.44,>=0.43.0dev0 in /usr/local/lib/python3.11/dist-packages (from numba>=0.58.0->tiledbsoma<2.0.0,>=1.7.2->PyTDC) (0.43.0)\n",
            "Requirement already satisfied: six>=1.5 in /usr/local/lib/python3.11/dist-packages (from python-dateutil>=2.8.2->pandas<3.0.0,>=2.1.4->PyTDC) (1.17.0)\n",
            "Collecting aiobotocore<3.0.0,>=2.5.4 (from s3fs>=2021.06.1->cellxgene-census==1.15.0->PyTDC)\n",
            "  Downloading aiobotocore-2.22.0-py3-none-any.whl.metadata (24 kB)\n",
            "INFO: pip is looking at multiple versions of s3fs to determine which version is compatible with other requirements. This could take a while.\n",
            "Collecting s3fs>=2021.06.1 (from cellxgene-census==1.15.0->PyTDC)\n",
            "  Downloading s3fs-2025.3.1-py3-none-any.whl.metadata (1.9 kB)\n",
            "  Downloading s3fs-2025.3.0-py3-none-any.whl.metadata (1.9 kB)\n",
            "  Downloading s3fs-2025.2.0-py3-none-any.whl.metadata (1.9 kB)\n",
            "  Downloading s3fs-2024.12.0-py3-none-any.whl.metadata (1.6 kB)\n",
            "  Downloading s3fs-2024.10.0-py3-none-any.whl.metadata (1.7 kB)\n",
            "  Downloading s3fs-2024.9.0-py3-none-any.whl.metadata (1.6 kB)\n",
            "  Downloading s3fs-2024.6.1-py3-none-any.whl.metadata (1.6 kB)\n",
            "INFO: pip is still looking at multiple versions of s3fs to determine which version is compatible with other requirements. This could take a while.\n",
            "  Downloading s3fs-2024.6.0-py3-none-any.whl.metadata (1.6 kB)\n",
            "  Downloading s3fs-2024.5.0-py3-none-any.whl.metadata (1.6 kB)\n",
            "  Downloading s3fs-2024.3.1-py3-none-any.whl.metadata (1.6 kB)\n",
            "Collecting legacy-api-wrap>=1.4 (from scanpy>=1.9.2->tiledbsoma<2.0.0,>=1.7.2->PyTDC)\n",
            "  Downloading legacy_api_wrap-1.4.1-py3-none-any.whl.metadata (2.1 kB)\n",
            "Requirement already satisfied: networkx>=2.7 in /usr/local/lib/python3.11/dist-packages (from scanpy>=1.9.2->tiledbsoma<2.0.0,>=1.7.2->PyTDC) (3.4.2)\n",
            "Requirement already satisfied: patsy!=1.0.0 in /usr/local/lib/python3.11/dist-packages (from scanpy>=1.9.2->tiledbsoma<2.0.0,>=1.7.2->PyTDC) (1.0.1)\n",
            "Requirement already satisfied: pynndescent>=0.5 in /usr/local/lib/python3.11/dist-packages (from scanpy>=1.9.2->tiledbsoma<2.0.0,>=1.7.2->PyTDC) (0.5.13)\n",
            "Collecting scikit-learn>=1.2.2 (from PyTDC)\n",
            "  Downloading scikit_learn-1.5.2-cp311-cp311-manylinux_2_17_x86_64.manylinux2014_x86_64.whl.metadata (13 kB)\n",
            "Collecting session-info2 (from scanpy>=1.9.2->tiledbsoma<2.0.0,>=1.7.2->PyTDC)\n",
            "  Downloading session_info2-0.1.2-py3-none-any.whl.metadata (2.5 kB)\n",
            "Requirement already satisfied: statsmodels>=0.13 in /usr/local/lib/python3.11/dist-packages (from scanpy>=1.9.2->tiledbsoma<2.0.0,>=1.7.2->PyTDC) (0.14.4)\n",
            "Requirement already satisfied: umap-learn!=0.5.0,>=0.5 in /usr/local/lib/python3.11/dist-packages (from scanpy>=1.9.2->tiledbsoma<2.0.0,>=1.7.2->PyTDC) (0.5.7)\n",
            "Requirement already satisfied: jinja2 in /usr/local/lib/python3.11/dist-packages (from torch>=1.10.0->accelerate==0.33.0->PyTDC) (3.1.6)\n",
            "Collecting nvidia-cuda-nvrtc-cu12==12.4.127 (from torch>=1.10.0->accelerate==0.33.0->PyTDC)\n",
            "  Downloading nvidia_cuda_nvrtc_cu12-12.4.127-py3-none-manylinux2014_x86_64.whl.metadata (1.5 kB)\n",
            "Collecting nvidia-cuda-runtime-cu12==12.4.127 (from torch>=1.10.0->accelerate==0.33.0->PyTDC)\n",
            "  Downloading nvidia_cuda_runtime_cu12-12.4.127-py3-none-manylinux2014_x86_64.whl.metadata (1.5 kB)\n",
            "Collecting nvidia-cuda-cupti-cu12==12.4.127 (from torch>=1.10.0->accelerate==0.33.0->PyTDC)\n",
            "  Downloading nvidia_cuda_cupti_cu12-12.4.127-py3-none-manylinux2014_x86_64.whl.metadata (1.6 kB)\n",
            "Collecting nvidia-cudnn-cu12==9.1.0.70 (from torch>=1.10.0->accelerate==0.33.0->PyTDC)\n",
            "  Downloading nvidia_cudnn_cu12-9.1.0.70-py3-none-manylinux2014_x86_64.whl.metadata (1.6 kB)\n",
            "Collecting nvidia-cublas-cu12==12.4.5.8 (from torch>=1.10.0->accelerate==0.33.0->PyTDC)\n",
            "  Downloading nvidia_cublas_cu12-12.4.5.8-py3-none-manylinux2014_x86_64.whl.metadata (1.5 kB)\n",
            "Collecting nvidia-cufft-cu12==11.2.1.3 (from torch>=1.10.0->accelerate==0.33.0->PyTDC)\n",
            "  Downloading nvidia_cufft_cu12-11.2.1.3-py3-none-manylinux2014_x86_64.whl.metadata (1.5 kB)\n",
            "Collecting nvidia-curand-cu12==10.3.5.147 (from torch>=1.10.0->accelerate==0.33.0->PyTDC)\n",
            "  Downloading nvidia_curand_cu12-10.3.5.147-py3-none-manylinux2014_x86_64.whl.metadata (1.5 kB)\n",
            "Collecting nvidia-cusolver-cu12==11.6.1.9 (from torch>=1.10.0->accelerate==0.33.0->PyTDC)\n",
            "  Downloading nvidia_cusolver_cu12-11.6.1.9-py3-none-manylinux2014_x86_64.whl.metadata (1.6 kB)\n",
            "Collecting nvidia-cusparse-cu12==12.3.1.170 (from torch>=1.10.0->accelerate==0.33.0->PyTDC)\n",
            "  Downloading nvidia_cusparse_cu12-12.3.1.170-py3-none-manylinux2014_x86_64.whl.metadata (1.6 kB)\n",
            "Requirement already satisfied: nvidia-cusparselt-cu12==0.6.2 in /usr/local/lib/python3.11/dist-packages (from torch>=1.10.0->accelerate==0.33.0->PyTDC) (0.6.2)\n",
            "Requirement already satisfied: nvidia-nccl-cu12==2.21.5 in /usr/local/lib/python3.11/dist-packages (from torch>=1.10.0->accelerate==0.33.0->PyTDC) (2.21.5)\n",
            "Requirement already satisfied: nvidia-nvtx-cu12==12.4.127 in /usr/local/lib/python3.11/dist-packages (from torch>=1.10.0->accelerate==0.33.0->PyTDC) (12.4.127)\n",
            "Collecting nvidia-nvjitlink-cu12==12.4.127 (from torch>=1.10.0->accelerate==0.33.0->PyTDC)\n",
            "  Downloading nvidia_nvjitlink_cu12-12.4.127-py3-none-manylinux2014_x86_64.whl.metadata (1.5 kB)\n",
            "Requirement already satisfied: triton==3.2.0 in /usr/local/lib/python3.11/dist-packages (from torch>=1.10.0->accelerate==0.33.0->PyTDC) (3.2.0)\n",
            "Requirement already satisfied: sympy==1.13.1 in /usr/local/lib/python3.11/dist-packages (from torch>=1.10.0->accelerate==0.33.0->PyTDC) (1.13.1)\n",
            "Requirement already satisfied: mpmath<1.4,>=1.1.0 in /usr/local/lib/python3.11/dist-packages (from sympy==1.13.1->torch>=1.10.0->accelerate==0.33.0->PyTDC) (1.3.0)\n",
            "Requirement already satisfied: setuptools>=18.5 in /usr/local/lib/python3.11/dist-packages (from ipython->gget<1.0.0,>=0.28.4->PyTDC) (75.2.0)\n",
            "Collecting jedi>=0.16 (from ipython->gget<1.0.0,>=0.28.4->PyTDC)\n",
            "  Downloading jedi-0.19.2-py2.py3-none-any.whl.metadata (22 kB)\n",
            "Requirement already satisfied: decorator in /usr/local/lib/python3.11/dist-packages (from ipython->gget<1.0.0,>=0.28.4->PyTDC) (4.4.2)\n",
            "Requirement already satisfied: pickleshare in /usr/local/lib/python3.11/dist-packages (from ipython->gget<1.0.0,>=0.28.4->PyTDC) (0.7.5)\n",
            "Requirement already satisfied: traitlets>=4.2 in /usr/local/lib/python3.11/dist-packages (from ipython->gget<1.0.0,>=0.28.4->PyTDC) (5.7.1)\n",
            "Requirement already satisfied: prompt-toolkit!=3.0.0,!=3.0.1,<3.1.0,>=2.0.0 in /usr/local/lib/python3.11/dist-packages (from ipython->gget<1.0.0,>=0.28.4->PyTDC) (3.0.51)\n",
            "Requirement already satisfied: pygments in /usr/local/lib/python3.11/dist-packages (from ipython->gget<1.0.0,>=0.28.4->PyTDC) (2.19.1)\n",
            "Requirement already satisfied: backcall in /usr/local/lib/python3.11/dist-packages (from ipython->gget<1.0.0,>=0.28.4->PyTDC) (0.2.0)\n",
            "Requirement already satisfied: matplotlib-inline in /usr/local/lib/python3.11/dist-packages (from ipython->gget<1.0.0,>=0.28.4->PyTDC) (0.1.7)\n",
            "Requirement already satisfied: pexpect>4.3 in /usr/local/lib/python3.11/dist-packages (from ipython->gget<1.0.0,>=0.28.4->PyTDC) (4.9.0)\n",
            "Requirement already satisfied: ipykernel>=4.5.1 in /usr/local/lib/python3.11/dist-packages (from ipywidgets->gget<1.0.0,>=0.28.4->PyTDC) (6.17.1)\n",
            "Requirement already satisfied: ipython-genutils~=0.2.0 in /usr/local/lib/python3.11/dist-packages (from ipywidgets->gget<1.0.0,>=0.28.4->PyTDC) (0.2.0)\n",
            "Requirement already satisfied: widgetsnbextension~=3.6.0 in /usr/local/lib/python3.11/dist-packages (from ipywidgets->gget<1.0.0,>=0.28.4->PyTDC) (3.6.10)\n",
            "Requirement already satisfied: jupyterlab-widgets>=1.0.0 in /usr/local/lib/python3.11/dist-packages (from ipywidgets->gget<1.0.0,>=0.28.4->PyTDC) (3.0.14)\n",
            "INFO: pip is looking at multiple versions of multiprocess to determine which version is compatible with other requirements. This could take a while.\n",
            "Collecting multiprocess (from evaluate==0.4.2->PyTDC)\n",
            "  Downloading multiprocess-0.70.17-py311-none-any.whl.metadata (7.2 kB)\n",
            "  Downloading multiprocess-0.70.16-py311-none-any.whl.metadata (7.2 kB)\n",
            "Collecting aioitertools<1.0.0,>=0.5.1 (from aiobotocore<3.0.0,>=2.5.4->s3fs>=2021.06.1->cellxgene-census==1.15.0->PyTDC)\n",
            "  Downloading aioitertools-0.12.0-py3-none-any.whl.metadata (3.8 kB)\n",
            "Collecting botocore<1.37.4,>=1.37.2 (from aiobotocore<3.0.0,>=2.5.4->s3fs>=2021.06.1->cellxgene-census==1.15.0->PyTDC)\n",
            "  Downloading botocore-1.37.3-py3-none-any.whl.metadata (5.7 kB)\n",
            "Collecting jmespath<2.0.0,>=0.7.1 (from aiobotocore<3.0.0,>=2.5.4->s3fs>=2021.06.1->cellxgene-census==1.15.0->PyTDC)\n",
            "  Downloading jmespath-1.0.1-py3-none-any.whl.metadata (7.6 kB)\n",
            "Requirement already satisfied: wrapt<2.0.0,>=1.10.10 in /usr/local/lib/python3.11/dist-packages (from aiobotocore<3.0.0,>=2.5.4->s3fs>=2021.06.1->cellxgene-census==1.15.0->PyTDC) (1.17.2)\n",
            "Requirement already satisfied: debugpy>=1.0 in /usr/local/lib/python3.11/dist-packages (from ipykernel>=4.5.1->ipywidgets->gget<1.0.0,>=0.28.4->PyTDC) (1.8.0)\n",
            "Requirement already satisfied: jupyter-client>=6.1.12 in /usr/local/lib/python3.11/dist-packages (from ipykernel>=4.5.1->ipywidgets->gget<1.0.0,>=0.28.4->PyTDC) (6.1.12)\n",
            "Requirement already satisfied: nest-asyncio in /usr/local/lib/python3.11/dist-packages (from ipykernel>=4.5.1->ipywidgets->gget<1.0.0,>=0.28.4->PyTDC) (1.6.0)\n",
            "Requirement already satisfied: pyzmq>=17 in /usr/local/lib/python3.11/dist-packages (from ipykernel>=4.5.1->ipywidgets->gget<1.0.0,>=0.28.4->PyTDC) (24.0.1)\n",
            "Requirement already satisfied: tornado>=6.1 in /usr/local/lib/python3.11/dist-packages (from ipykernel>=4.5.1->ipywidgets->gget<1.0.0,>=0.28.4->PyTDC) (6.4.2)\n",
            "Requirement already satisfied: parso<0.9.0,>=0.8.4 in /usr/local/lib/python3.11/dist-packages (from jedi>=0.16->ipython->gget<1.0.0,>=0.28.4->PyTDC) (0.8.4)\n",
            "Requirement already satisfied: ptyprocess>=0.5 in /usr/local/lib/python3.11/dist-packages (from pexpect>4.3->ipython->gget<1.0.0,>=0.28.4->PyTDC) (0.7.0)\n",
            "Requirement already satisfied: wcwidth in /usr/local/lib/python3.11/dist-packages (from prompt-toolkit!=3.0.0,!=3.0.1,<3.1.0,>=2.0.0->ipython->gget<1.0.0,>=0.28.4->PyTDC) (0.2.13)\n",
            "Requirement already satisfied: notebook>=4.4.1 in /usr/local/lib/python3.11/dist-packages (from widgetsnbextension~=3.6.0->ipywidgets->gget<1.0.0,>=0.28.4->PyTDC) (6.5.7)\n",
            "Requirement already satisfied: MarkupSafe>=2.0 in /usr/local/lib/python3.11/dist-packages (from jinja2->torch>=1.10.0->accelerate==0.33.0->PyTDC) (3.0.2)\n",
            "Requirement already satisfied: jupyter-core>=4.6.0 in /usr/local/lib/python3.11/dist-packages (from jupyter-client>=6.1.12->ipykernel>=4.5.1->ipywidgets->gget<1.0.0,>=0.28.4->PyTDC) (5.7.2)\n",
            "Requirement already satisfied: argon2-cffi in /usr/local/lib/python3.11/dist-packages (from notebook>=4.4.1->widgetsnbextension~=3.6.0->ipywidgets->gget<1.0.0,>=0.28.4->PyTDC) (23.1.0)\n",
            "Requirement already satisfied: nbformat in /usr/local/lib/python3.11/dist-packages (from notebook>=4.4.1->widgetsnbextension~=3.6.0->ipywidgets->gget<1.0.0,>=0.28.4->PyTDC) (5.10.4)\n",
            "Requirement already satisfied: nbconvert>=5 in /usr/local/lib/python3.11/dist-packages (from notebook>=4.4.1->widgetsnbextension~=3.6.0->ipywidgets->gget<1.0.0,>=0.28.4->PyTDC) (7.16.6)\n",
            "Requirement already satisfied: Send2Trash>=1.8.0 in /usr/local/lib/python3.11/dist-packages (from notebook>=4.4.1->widgetsnbextension~=3.6.0->ipywidgets->gget<1.0.0,>=0.28.4->PyTDC) (1.8.3)\n",
            "Requirement already satisfied: terminado>=0.8.3 in /usr/local/lib/python3.11/dist-packages (from notebook>=4.4.1->widgetsnbextension~=3.6.0->ipywidgets->gget<1.0.0,>=0.28.4->PyTDC) (0.18.1)\n",
            "Requirement already satisfied: prometheus-client in /usr/local/lib/python3.11/dist-packages (from notebook>=4.4.1->widgetsnbextension~=3.6.0->ipywidgets->gget<1.0.0,>=0.28.4->PyTDC) (0.21.1)\n",
            "Requirement already satisfied: nbclassic>=0.4.7 in /usr/local/lib/python3.11/dist-packages (from notebook>=4.4.1->widgetsnbextension~=3.6.0->ipywidgets->gget<1.0.0,>=0.28.4->PyTDC) (1.3.0)\n",
            "Requirement already satisfied: platformdirs>=2.5 in /usr/local/lib/python3.11/dist-packages (from jupyter-core>=4.6.0->jupyter-client>=6.1.12->ipykernel>=4.5.1->ipywidgets->gget<1.0.0,>=0.28.4->PyTDC) (4.3.7)\n",
            "Requirement already satisfied: notebook-shim>=0.2.3 in /usr/local/lib/python3.11/dist-packages (from nbclassic>=0.4.7->notebook>=4.4.1->widgetsnbextension~=3.6.0->ipywidgets->gget<1.0.0,>=0.28.4->PyTDC) (0.2.4)\n",
            "Requirement already satisfied: bleach!=5.0.0 in /usr/local/lib/python3.11/dist-packages (from bleach[css]!=5.0.0->nbconvert>=5->notebook>=4.4.1->widgetsnbextension~=3.6.0->ipywidgets->gget<1.0.0,>=0.28.4->PyTDC) (6.2.0)\n",
            "Requirement already satisfied: defusedxml in /usr/local/lib/python3.11/dist-packages (from nbconvert>=5->notebook>=4.4.1->widgetsnbextension~=3.6.0->ipywidgets->gget<1.0.0,>=0.28.4->PyTDC) (0.7.1)\n",
            "Requirement already satisfied: jupyterlab-pygments in /usr/local/lib/python3.11/dist-packages (from nbconvert>=5->notebook>=4.4.1->widgetsnbextension~=3.6.0->ipywidgets->gget<1.0.0,>=0.28.4->PyTDC) (0.3.0)\n",
            "Requirement already satisfied: mistune<4,>=2.0.3 in /usr/local/lib/python3.11/dist-packages (from nbconvert>=5->notebook>=4.4.1->widgetsnbextension~=3.6.0->ipywidgets->gget<1.0.0,>=0.28.4->PyTDC) (3.1.3)\n",
            "Requirement already satisfied: nbclient>=0.5.0 in /usr/local/lib/python3.11/dist-packages (from nbconvert>=5->notebook>=4.4.1->widgetsnbextension~=3.6.0->ipywidgets->gget<1.0.0,>=0.28.4->PyTDC) (0.10.2)\n",
            "Requirement already satisfied: pandocfilters>=1.4.1 in /usr/local/lib/python3.11/dist-packages (from nbconvert>=5->notebook>=4.4.1->widgetsnbextension~=3.6.0->ipywidgets->gget<1.0.0,>=0.28.4->PyTDC) (1.5.1)\n",
            "Requirement already satisfied: fastjsonschema>=2.15 in /usr/local/lib/python3.11/dist-packages (from nbformat->notebook>=4.4.1->widgetsnbextension~=3.6.0->ipywidgets->gget<1.0.0,>=0.28.4->PyTDC) (2.21.1)\n",
            "Requirement already satisfied: jsonschema>=2.6 in /usr/local/lib/python3.11/dist-packages (from nbformat->notebook>=4.4.1->widgetsnbextension~=3.6.0->ipywidgets->gget<1.0.0,>=0.28.4->PyTDC) (4.23.0)\n",
            "Requirement already satisfied: argon2-cffi-bindings in /usr/local/lib/python3.11/dist-packages (from argon2-cffi->notebook>=4.4.1->widgetsnbextension~=3.6.0->ipywidgets->gget<1.0.0,>=0.28.4->PyTDC) (21.2.0)\n",
            "Requirement already satisfied: webencodings in /usr/local/lib/python3.11/dist-packages (from bleach!=5.0.0->bleach[css]!=5.0.0->nbconvert>=5->notebook>=4.4.1->widgetsnbextension~=3.6.0->ipywidgets->gget<1.0.0,>=0.28.4->PyTDC) (0.5.1)\n",
            "Requirement already satisfied: tinycss2<1.5,>=1.1.0 in /usr/local/lib/python3.11/dist-packages (from bleach[css]!=5.0.0->nbconvert>=5->notebook>=4.4.1->widgetsnbextension~=3.6.0->ipywidgets->gget<1.0.0,>=0.28.4->PyTDC) (1.4.0)\n",
            "Requirement already satisfied: jsonschema-specifications>=2023.03.6 in /usr/local/lib/python3.11/dist-packages (from jsonschema>=2.6->nbformat->notebook>=4.4.1->widgetsnbextension~=3.6.0->ipywidgets->gget<1.0.0,>=0.28.4->PyTDC) (2025.4.1)\n",
            "Requirement already satisfied: referencing>=0.28.4 in /usr/local/lib/python3.11/dist-packages (from jsonschema>=2.6->nbformat->notebook>=4.4.1->widgetsnbextension~=3.6.0->ipywidgets->gget<1.0.0,>=0.28.4->PyTDC) (0.36.2)\n",
            "Requirement already satisfied: rpds-py>=0.7.1 in /usr/local/lib/python3.11/dist-packages (from jsonschema>=2.6->nbformat->notebook>=4.4.1->widgetsnbextension~=3.6.0->ipywidgets->gget<1.0.0,>=0.28.4->PyTDC) (0.24.0)\n",
            "Requirement already satisfied: jupyter-server<3,>=1.8 in /usr/local/lib/python3.11/dist-packages (from notebook-shim>=0.2.3->nbclassic>=0.4.7->notebook>=4.4.1->widgetsnbextension~=3.6.0->ipywidgets->gget<1.0.0,>=0.28.4->PyTDC) (1.16.0)\n",
            "Requirement already satisfied: cffi>=1.0.1 in /usr/local/lib/python3.11/dist-packages (from argon2-cffi-bindings->argon2-cffi->notebook>=4.4.1->widgetsnbextension~=3.6.0->ipywidgets->gget<1.0.0,>=0.28.4->PyTDC) (1.17.1)\n",
            "Requirement already satisfied: pycparser in /usr/local/lib/python3.11/dist-packages (from cffi>=1.0.1->argon2-cffi-bindings->argon2-cffi->notebook>=4.4.1->widgetsnbextension~=3.6.0->ipywidgets->gget<1.0.0,>=0.28.4->PyTDC) (2.22)\n",
            "Requirement already satisfied: anyio>=3.1.0 in /usr/local/lib/python3.11/dist-packages (from jupyter-server<3,>=1.8->notebook-shim>=0.2.3->nbclassic>=0.4.7->notebook>=4.4.1->widgetsnbextension~=3.6.0->ipywidgets->gget<1.0.0,>=0.28.4->PyTDC) (4.9.0)\n",
            "Requirement already satisfied: websocket-client in /usr/local/lib/python3.11/dist-packages (from jupyter-server<3,>=1.8->notebook-shim>=0.2.3->nbclassic>=0.4.7->notebook>=4.4.1->widgetsnbextension~=3.6.0->ipywidgets->gget<1.0.0,>=0.28.4->PyTDC) (1.8.0)\n",
            "Requirement already satisfied: sniffio>=1.1 in /usr/local/lib/python3.11/dist-packages (from anyio>=3.1.0->jupyter-server<3,>=1.8->notebook-shim>=0.2.3->nbclassic>=0.4.7->notebook>=4.4.1->widgetsnbextension~=3.6.0->ipywidgets->gget<1.0.0,>=0.28.4->PyTDC) (1.3.1)\n",
            "Downloading accelerate-0.33.0-py3-none-any.whl (315 kB)\n",
            "\u001b[2K   \u001b[90m━━━━━━━━━━━━━━━━━━━━━━━━━━━━━━━━━━━━━━━━\u001b[0m \u001b[32m315.1/315.1 kB\u001b[0m \u001b[31m7.1 MB/s\u001b[0m eta \u001b[36m0:00:00\u001b[0m\n",
            "\u001b[?25hDownloading cellxgene_census-1.15.0-py3-none-any.whl (51 kB)\n",
            "\u001b[2K   \u001b[90m━━━━━━━━━━━━━━━━━━━━━━━━━━━━━━━━━━━━━━━━\u001b[0m \u001b[32m52.0/52.0 kB\u001b[0m \u001b[31m2.9 MB/s\u001b[0m eta \u001b[36m0:00:00\u001b[0m\n",
            "\u001b[?25hDownloading evaluate-0.4.2-py3-none-any.whl (84 kB)\n",
            "\u001b[2K   \u001b[90m━━━━━━━━━━━━━━━━━━━━━━━━━━━━━━━━━━━━━━━━\u001b[0m \u001b[32m84.1/84.1 kB\u001b[0m \u001b[31m5.7 MB/s\u001b[0m eta \u001b[36m0:00:00\u001b[0m\n",
            "\u001b[?25hDownloading dataclasses-0.6-py3-none-any.whl (14 kB)\n",
            "Downloading datasets-2.19.2-py3-none-any.whl (542 kB)\n",
            "\u001b[2K   \u001b[90m━━━━━━━━━━━━━━━━━━━━━━━━━━━━━━━━━━━━━━━━\u001b[0m \u001b[32m542.1/542.1 kB\u001b[0m \u001b[31m16.7 MB/s\u001b[0m eta \u001b[36m0:00:00\u001b[0m\n",
            "\u001b[?25hDownloading fuzzywuzzy-0.18.0-py2.py3-none-any.whl (18 kB)\n",
            "Downloading gget-0.29.1-py3-none-any.whl (43.1 MB)\n",
            "\u001b[2K   \u001b[90m━━━━━━━━━━━━━━━━━━━━━━━━━━━━━━━━━━━━━━━━\u001b[0m \u001b[32m43.1/43.1 MB\u001b[0m \u001b[31m15.4 MB/s\u001b[0m eta \u001b[36m0:00:00\u001b[0m\n",
            "\u001b[?25hDownloading numpy-1.26.4-cp311-cp311-manylinux_2_17_x86_64.manylinux2014_x86_64.whl (18.3 MB)\n",
            "\u001b[2K   \u001b[90m━━━━━━━━━━━━━━━━━━━━━━━━━━━━━━━━━━━━━━━━\u001b[0m \u001b[32m18.3/18.3 MB\u001b[0m \u001b[31m57.6 MB/s\u001b[0m eta \u001b[36m0:00:00\u001b[0m\n",
            "\u001b[?25hDownloading rdkit-2023.9.6-cp311-cp311-manylinux_2_17_x86_64.manylinux2014_x86_64.whl (34.9 MB)\n",
            "\u001b[2K   \u001b[90m━━━━━━━━━━━━━━━━━━━━━━━━━━━━━━━━━━━━━━━━\u001b[0m \u001b[32m34.9/34.9 MB\u001b[0m \u001b[31m15.4 MB/s\u001b[0m eta \u001b[36m0:00:00\u001b[0m\n",
            "\u001b[?25hDownloading tiledbsoma-1.11.4-cp311-cp311-manylinux_2_17_x86_64.manylinux2014_x86_64.whl (16.0 MB)\n",
            "\u001b[2K   \u001b[90m━━━━━━━━━━━━━━━━━━━━━━━━━━━━━━━━━━━━━━━━\u001b[0m \u001b[32m16.0/16.0 MB\u001b[0m \u001b[31m51.7 MB/s\u001b[0m eta \u001b[36m0:00:00\u001b[0m\n",
            "\u001b[?25hDownloading somacore-1.0.11-py3-none-any.whl (35 kB)\n",
            "Downloading transformers-4.50.3-py3-none-any.whl (10.2 MB)\n",
            "\u001b[2K   \u001b[90m━━━━━━━━━━━━━━━━━━━━━━━━━━━━━━━━━━━━━━━━\u001b[0m \u001b[32m10.2/10.2 MB\u001b[0m \u001b[31m55.6 MB/s\u001b[0m eta \u001b[36m0:00:00\u001b[0m\n",
            "\u001b[?25hDownloading anndata-0.11.4-py3-none-any.whl (144 kB)\n",
            "\u001b[2K   \u001b[90m━━━━━━━━━━━━━━━━━━━━━━━━━━━━━━━━━━━━━━━━\u001b[0m \u001b[32m144.5/144.5 kB\u001b[0m \u001b[31m8.8 MB/s\u001b[0m eta \u001b[36m0:00:00\u001b[0m\n",
            "\u001b[?25hDownloading dill-0.3.8-py3-none-any.whl (116 kB)\n",
            "\u001b[2K   \u001b[90m━━━━━━━━━━━━━━━━━━━━━━━━━━━━━━━━━━━━━━━━\u001b[0m \u001b[32m116.3/116.3 kB\u001b[0m \u001b[31m8.0 MB/s\u001b[0m eta \u001b[36m0:00:00\u001b[0m\n",
            "\u001b[?25hDownloading fsspec-2024.3.1-py3-none-any.whl (171 kB)\n",
            "\u001b[2K   \u001b[90m━━━━━━━━━━━━━━━━━━━━━━━━━━━━━━━━━━━━━━━━\u001b[0m \u001b[32m172.0/172.0 kB\u001b[0m \u001b[31m11.3 MB/s\u001b[0m eta \u001b[36m0:00:00\u001b[0m\n",
            "\u001b[?25hDownloading mysql_connector_python-9.3.0-cp311-cp311-manylinux_2_28_x86_64.whl (33.9 MB)\n",
            "\u001b[2K   \u001b[90m━━━━━━━━━━━━━━━━━━━━━━━━━━━━━━━━━━━━━━━━\u001b[0m \u001b[32m33.9/33.9 MB\u001b[0m \u001b[31m17.2 MB/s\u001b[0m eta \u001b[36m0:00:00\u001b[0m\n",
            "\u001b[?25hDownloading s3fs-2024.3.1-py3-none-any.whl (29 kB)\n",
            "Downloading scanpy-1.11.1-py3-none-any.whl (2.1 MB)\n",
            "\u001b[2K   \u001b[90m━━━━━━━━━━━━━━━━━━━━━━━━━━━━━━━━━━━━━━━━\u001b[0m \u001b[32m2.1/2.1 MB\u001b[0m \u001b[31m41.9 MB/s\u001b[0m eta \u001b[36m0:00:00\u001b[0m\n",
            "\u001b[?25hDownloading scikit_learn-1.5.2-cp311-cp311-manylinux_2_17_x86_64.manylinux2014_x86_64.whl (13.3 MB)\n",
            "\u001b[2K   \u001b[90m━━━━━━━━━━━━━━━━━━━━━━━━━━━━━━━━━━━━━━━━\u001b[0m \u001b[32m13.3/13.3 MB\u001b[0m \u001b[31m47.1 MB/s\u001b[0m eta \u001b[36m0:00:00\u001b[0m\n",
            "\u001b[?25hDownloading tiledb-0.29.1-cp311-cp311-manylinux_2_17_x86_64.manylinux2014_x86_64.whl (26.8 MB)\n",
            "\u001b[2K   \u001b[90m━━━━━━━━━━━━━━━━━━━━━━━━━━━━━━━━━━━━━━━━\u001b[0m \u001b[32m26.8/26.8 MB\u001b[0m \u001b[31m15.8 MB/s\u001b[0m eta \u001b[36m0:00:00\u001b[0m\n",
            "\u001b[?25hDownloading nvidia_cublas_cu12-12.4.5.8-py3-none-manylinux2014_x86_64.whl (363.4 MB)\n",
            "\u001b[2K   \u001b[90m━━━━━━━━━━━━━━━━━━━━━━━━━━━━━━━━━━━━━━━━\u001b[0m \u001b[32m363.4/363.4 MB\u001b[0m \u001b[31m3.5 MB/s\u001b[0m eta \u001b[36m0:00:00\u001b[0m\n",
            "\u001b[?25hDownloading nvidia_cuda_cupti_cu12-12.4.127-py3-none-manylinux2014_x86_64.whl (13.8 MB)\n",
            "\u001b[2K   \u001b[90m━━━━━━━━━━━━━━━━━━━━━━━━━━━━━━━━━━━━━━━━\u001b[0m \u001b[32m13.8/13.8 MB\u001b[0m \u001b[31m95.9 MB/s\u001b[0m eta \u001b[36m0:00:00\u001b[0m\n",
            "\u001b[?25hDownloading nvidia_cuda_nvrtc_cu12-12.4.127-py3-none-manylinux2014_x86_64.whl (24.6 MB)\n",
            "\u001b[2K   \u001b[90m━━━━━━━━━━━━━━━━━━━━━━━━━━━━━━━━━━━━━━━━\u001b[0m \u001b[32m24.6/24.6 MB\u001b[0m \u001b[31m75.8 MB/s\u001b[0m eta \u001b[36m0:00:00\u001b[0m\n",
            "\u001b[?25hDownloading nvidia_cuda_runtime_cu12-12.4.127-py3-none-manylinux2014_x86_64.whl (883 kB)\n",
            "\u001b[2K   \u001b[90m━━━━━━━━━━━━━━━━━━━━━━━━━━━━━━━━━━━━━━━━\u001b[0m \u001b[32m883.7/883.7 kB\u001b[0m \u001b[31m39.3 MB/s\u001b[0m eta \u001b[36m0:00:00\u001b[0m\n",
            "\u001b[?25hDownloading nvidia_cudnn_cu12-9.1.0.70-py3-none-manylinux2014_x86_64.whl (664.8 MB)\n",
            "\u001b[2K   \u001b[90m━━━━━━━━━━━━━━━━━━━━━━━━━━━━━━━━━━━━━━━━\u001b[0m \u001b[32m664.8/664.8 MB\u001b[0m \u001b[31m2.8 MB/s\u001b[0m eta \u001b[36m0:00:00\u001b[0m\n",
            "\u001b[?25hDownloading nvidia_cufft_cu12-11.2.1.3-py3-none-manylinux2014_x86_64.whl (211.5 MB)\n",
            "\u001b[2K   \u001b[90m━━━━━━━━━━━━━━━━━━━━━━━━━━━━━━━━━━━━━━━━\u001b[0m \u001b[32m211.5/211.5 MB\u001b[0m \u001b[31m5.8 MB/s\u001b[0m eta \u001b[36m0:00:00\u001b[0m\n",
            "\u001b[?25hDownloading nvidia_curand_cu12-10.3.5.147-py3-none-manylinux2014_x86_64.whl (56.3 MB)\n",
            "\u001b[2K   \u001b[90m━━━━━━━━━━━━━━━━━━━━━━━━━━━━━━━━━━━━━━━━\u001b[0m \u001b[32m56.3/56.3 MB\u001b[0m \u001b[31m12.5 MB/s\u001b[0m eta \u001b[36m0:00:00\u001b[0m\n",
            "\u001b[?25hDownloading nvidia_cusolver_cu12-11.6.1.9-py3-none-manylinux2014_x86_64.whl (127.9 MB)\n",
            "\u001b[2K   \u001b[90m━━━━━━━━━━━━━━━━━━━━━━━━━━━━━━━━━━━━━━━━\u001b[0m \u001b[32m127.9/127.9 MB\u001b[0m \u001b[31m7.2 MB/s\u001b[0m eta \u001b[36m0:00:00\u001b[0m\n",
            "\u001b[?25hDownloading nvidia_cusparse_cu12-12.3.1.170-py3-none-manylinux2014_x86_64.whl (207.5 MB)\n",
            "\u001b[2K   \u001b[90m━━━━━━━━━━━━━━━━━━━━━━━━━━━━━━━━━━━━━━━━\u001b[0m \u001b[32m207.5/207.5 MB\u001b[0m \u001b[31m5.9 MB/s\u001b[0m eta \u001b[36m0:00:00\u001b[0m\n",
            "\u001b[?25hDownloading nvidia_nvjitlink_cu12-12.4.127-py3-none-manylinux2014_x86_64.whl (21.1 MB)\n",
            "\u001b[2K   \u001b[90m━━━━━━━━━━━━━━━━━━━━━━━━━━━━━━━━━━━━━━━━\u001b[0m \u001b[32m21.1/21.1 MB\u001b[0m \u001b[31m62.2 MB/s\u001b[0m eta \u001b[36m0:00:00\u001b[0m\n",
            "\u001b[?25hDownloading multiprocess-0.70.16-py311-none-any.whl (143 kB)\n",
            "\u001b[2K   \u001b[90m━━━━━━━━━━━━━━━━━━━━━━━━━━━━━━━━━━━━━━━━\u001b[0m \u001b[32m143.5/143.5 kB\u001b[0m \u001b[31m12.5 MB/s\u001b[0m eta \u001b[36m0:00:00\u001b[0m\n",
            "\u001b[?25hDownloading pyarrow_hotfix-0.7-py3-none-any.whl (7.9 kB)\n",
            "Downloading xxhash-3.5.0-cp311-cp311-manylinux_2_17_x86_64.manylinux2014_x86_64.whl (194 kB)\n",
            "\u001b[2K   \u001b[90m━━━━━━━━━━━━━━━━━━━━━━━━━━━━━━━━━━━━━━━━\u001b[0m \u001b[32m194.8/194.8 kB\u001b[0m \u001b[31m12.6 MB/s\u001b[0m eta \u001b[36m0:00:00\u001b[0m\n",
            "\u001b[?25hDownloading aiobotocore-2.22.0-py3-none-any.whl (78 kB)\n",
            "\u001b[2K   \u001b[90m━━━━━━━━━━━━━━━━━━━━━━━━━━━━━━━━━━━━━━━━\u001b[0m \u001b[32m78.9/78.9 kB\u001b[0m \u001b[31m5.8 MB/s\u001b[0m eta \u001b[36m0:00:00\u001b[0m\n",
            "\u001b[?25hDownloading array_api_compat-1.11.2-py3-none-any.whl (53 kB)\n",
            "\u001b[2K   \u001b[90m━━━━━━━━━━━━━━━━━━━━━━━━━━━━━━━━━━━━━━━━\u001b[0m \u001b[32m53.1/53.1 kB\u001b[0m \u001b[31m4.1 MB/s\u001b[0m eta \u001b[36m0:00:00\u001b[0m\n",
            "\u001b[?25hDownloading jedi-0.19.2-py2.py3-none-any.whl (1.6 MB)\n",
            "\u001b[2K   \u001b[90m━━━━━━━━━━━━━━━━━━━━━━━━━━━━━━━━━━━━━━━━\u001b[0m \u001b[32m1.6/1.6 MB\u001b[0m \u001b[31m55.5 MB/s\u001b[0m eta \u001b[36m0:00:00\u001b[0m\n",
            "\u001b[?25hDownloading legacy_api_wrap-1.4.1-py3-none-any.whl (10.0 kB)\n",
            "Downloading session_info2-0.1.2-py3-none-any.whl (14 kB)\n",
            "Downloading aioitertools-0.12.0-py3-none-any.whl (24 kB)\n",
            "Downloading botocore-1.37.3-py3-none-any.whl (13.3 MB)\n",
            "\u001b[2K   \u001b[90m━━━━━━━━━━━━━━━━━━━━━━━━━━━━━━━━━━━━━━━━\u001b[0m \u001b[32m13.3/13.3 MB\u001b[0m \u001b[31m75.0 MB/s\u001b[0m eta \u001b[36m0:00:00\u001b[0m\n",
            "\u001b[?25hDownloading jmespath-1.0.1-py3-none-any.whl (20 kB)\n",
            "Building wheels for collected packages: PyTDC\n",
            "  Building wheel for PyTDC (setup.py) ... \u001b[?25l\u001b[?25hdone\n",
            "  Created wheel for PyTDC: filename=pytdc-1.1.15-py3-none-any.whl size=191643 sha256=2f26e5db8dfbcd31b4f9a6c3e42f431a6234d8edd0df54f06a970e7727c4bd1d\n",
            "  Stored in directory: /root/.cache/pip/wheels/24/6a/27/95aa98f441aa4ae1845d105118d281003baa66883096fa0c2f\n",
            "Successfully built PyTDC\n",
            "Installing collected packages: fuzzywuzzy, dataclasses, xxhash, session-info2, pyarrow-hotfix, nvidia-nvjitlink-cu12, nvidia-curand-cu12, nvidia-cufft-cu12, nvidia-cuda-runtime-cu12, nvidia-cuda-nvrtc-cu12, nvidia-cuda-cupti-cu12, nvidia-cublas-cu12, numpy, mysql-connector-python, legacy-api-wrap, jmespath, jedi, fsspec, dill, array-api-compat, aioitertools, tiledb, rdkit, nvidia-cusparse-cu12, nvidia-cudnn-cu12, multiprocess, botocore, scikit-learn, nvidia-cusolver-cu12, anndata, aiobotocore, transformers, somacore, s3fs, datasets, evaluate, accelerate, scanpy, tiledbsoma, cellxgene-census, gget, PyTDC\n",
            "  Attempting uninstall: nvidia-nvjitlink-cu12\n",
            "    Found existing installation: nvidia-nvjitlink-cu12 12.5.82\n",
            "    Uninstalling nvidia-nvjitlink-cu12-12.5.82:\n",
            "      Successfully uninstalled nvidia-nvjitlink-cu12-12.5.82\n",
            "  Attempting uninstall: nvidia-curand-cu12\n",
            "    Found existing installation: nvidia-curand-cu12 10.3.6.82\n",
            "    Uninstalling nvidia-curand-cu12-10.3.6.82:\n",
            "      Successfully uninstalled nvidia-curand-cu12-10.3.6.82\n",
            "  Attempting uninstall: nvidia-cufft-cu12\n",
            "    Found existing installation: nvidia-cufft-cu12 11.2.3.61\n",
            "    Uninstalling nvidia-cufft-cu12-11.2.3.61:\n",
            "      Successfully uninstalled nvidia-cufft-cu12-11.2.3.61\n",
            "  Attempting uninstall: nvidia-cuda-runtime-cu12\n",
            "    Found existing installation: nvidia-cuda-runtime-cu12 12.5.82\n",
            "    Uninstalling nvidia-cuda-runtime-cu12-12.5.82:\n",
            "      Successfully uninstalled nvidia-cuda-runtime-cu12-12.5.82\n",
            "  Attempting uninstall: nvidia-cuda-nvrtc-cu12\n",
            "    Found existing installation: nvidia-cuda-nvrtc-cu12 12.5.82\n",
            "    Uninstalling nvidia-cuda-nvrtc-cu12-12.5.82:\n",
            "      Successfully uninstalled nvidia-cuda-nvrtc-cu12-12.5.82\n",
            "  Attempting uninstall: nvidia-cuda-cupti-cu12\n",
            "    Found existing installation: nvidia-cuda-cupti-cu12 12.5.82\n",
            "    Uninstalling nvidia-cuda-cupti-cu12-12.5.82:\n",
            "      Successfully uninstalled nvidia-cuda-cupti-cu12-12.5.82\n",
            "  Attempting uninstall: nvidia-cublas-cu12\n",
            "    Found existing installation: nvidia-cublas-cu12 12.5.3.2\n",
            "    Uninstalling nvidia-cublas-cu12-12.5.3.2:\n",
            "      Successfully uninstalled nvidia-cublas-cu12-12.5.3.2\n",
            "  Attempting uninstall: numpy\n",
            "    Found existing installation: numpy 2.0.2\n",
            "    Uninstalling numpy-2.0.2:\n",
            "      Successfully uninstalled numpy-2.0.2\n",
            "  Attempting uninstall: fsspec\n",
            "    Found existing installation: fsspec 2025.3.2\n",
            "    Uninstalling fsspec-2025.3.2:\n",
            "      Successfully uninstalled fsspec-2025.3.2\n",
            "  Attempting uninstall: nvidia-cusparse-cu12\n",
            "    Found existing installation: nvidia-cusparse-cu12 12.5.1.3\n",
            "    Uninstalling nvidia-cusparse-cu12-12.5.1.3:\n",
            "      Successfully uninstalled nvidia-cusparse-cu12-12.5.1.3\n",
            "  Attempting uninstall: nvidia-cudnn-cu12\n",
            "    Found existing installation: nvidia-cudnn-cu12 9.3.0.75\n",
            "    Uninstalling nvidia-cudnn-cu12-9.3.0.75:\n",
            "      Successfully uninstalled nvidia-cudnn-cu12-9.3.0.75\n",
            "  Attempting uninstall: scikit-learn\n",
            "    Found existing installation: scikit-learn 1.6.1\n",
            "    Uninstalling scikit-learn-1.6.1:\n",
            "      Successfully uninstalled scikit-learn-1.6.1\n",
            "  Attempting uninstall: nvidia-cusolver-cu12\n",
            "    Found existing installation: nvidia-cusolver-cu12 11.6.3.83\n",
            "    Uninstalling nvidia-cusolver-cu12-11.6.3.83:\n",
            "      Successfully uninstalled nvidia-cusolver-cu12-11.6.3.83\n",
            "  Attempting uninstall: transformers\n",
            "    Found existing installation: transformers 4.51.3\n",
            "    Uninstalling transformers-4.51.3:\n",
            "      Successfully uninstalled transformers-4.51.3\n",
            "  Attempting uninstall: accelerate\n",
            "    Found existing installation: accelerate 1.6.0\n",
            "    Uninstalling accelerate-1.6.0:\n",
            "      Successfully uninstalled accelerate-1.6.0\n",
            "\u001b[31mERROR: pip's dependency resolver does not currently take into account all the packages that are installed. This behaviour is the source of the following dependency conflicts.\n",
            "gcsfs 2025.3.2 requires fsspec==2025.3.2, but you have fsspec 2024.3.1 which is incompatible.\n",
            "thinc 8.3.6 requires numpy<3.0.0,>=2.0.0, but you have numpy 1.26.4 which is incompatible.\u001b[0m\u001b[31m\n",
            "\u001b[0mSuccessfully installed PyTDC-1.1.15 accelerate-0.33.0 aiobotocore-2.22.0 aioitertools-0.12.0 anndata-0.11.4 array-api-compat-1.11.2 botocore-1.37.3 cellxgene-census-1.15.0 dataclasses-0.6 datasets-2.19.2 dill-0.3.8 evaluate-0.4.2 fsspec-2024.3.1 fuzzywuzzy-0.18.0 gget-0.29.1 jedi-0.19.2 jmespath-1.0.1 legacy-api-wrap-1.4.1 multiprocess-0.70.16 mysql-connector-python-9.3.0 numpy-1.26.4 nvidia-cublas-cu12-12.4.5.8 nvidia-cuda-cupti-cu12-12.4.127 nvidia-cuda-nvrtc-cu12-12.4.127 nvidia-cuda-runtime-cu12-12.4.127 nvidia-cudnn-cu12-9.1.0.70 nvidia-cufft-cu12-11.2.1.3 nvidia-curand-cu12-10.3.5.147 nvidia-cusolver-cu12-11.6.1.9 nvidia-cusparse-cu12-12.3.1.170 nvidia-nvjitlink-cu12-12.4.127 pyarrow-hotfix-0.7 rdkit-2023.9.6 s3fs-2024.3.1 scanpy-1.11.1 scikit-learn-1.5.2 session-info2-0.1.2 somacore-1.0.11 tiledb-0.29.1 tiledbsoma-1.11.4 transformers-4.50.3 xxhash-3.5.0\n"
          ]
        },
        {
          "output_type": "display_data",
          "data": {
            "application/vnd.colab-display-data+json": {
              "pip_warning": {
                "packages": [
                  "dataclasses"
                ]
              },
              "id": "c2877d38ea074f31b7584446fcbaefc9"
            }
          },
          "metadata": {}
        }
      ],
      "source": [
        "pip install PyTDC"
      ]
    },
    {
      "cell_type": "markdown",
      "source": [
        "# **Data Loading**"
      ],
      "metadata": {
        "id": "ETas4zFCzofq"
      }
    },
    {
      "cell_type": "code",
      "source": [
        "from tdc.single_pred import ADME\n",
        "import pandas as pd\n",
        "dataset =  ADME(name=\"Solubility_AqSolDB\")"
      ],
      "metadata": {
        "colab": {
          "base_uri": "https://localhost:8080/"
        },
        "id": "tGY1kJ6mzsrC",
        "outputId": "2cedeb0b-f86f-46cd-8088-5afc1a553f92"
      },
      "execution_count": 3,
      "outputs": [
        {
          "output_type": "stream",
          "name": "stderr",
          "text": [
            "Downloading...\n",
            "100%|██████████| 853k/853k [00:00<00:00, 7.65MiB/s]\n",
            "Loading...\n",
            "Done!\n"
          ]
        }
      ]
    },
    {
      "cell_type": "code",
      "source": [
        "pip install --pre deepchem[torch]"
      ],
      "metadata": {
        "colab": {
          "base_uri": "https://localhost:8080/"
        },
        "id": "EDGLalpe11Yw",
        "outputId": "c43373ce-d77c-43c4-b952-3cff80572dd1"
      },
      "execution_count": 4,
      "outputs": [
        {
          "output_type": "stream",
          "name": "stdout",
          "text": [
            "Requirement already satisfied: deepchem[torch] in /usr/local/lib/python3.11/dist-packages (2.8.0)\n",
            "Requirement already satisfied: joblib in /usr/local/lib/python3.11/dist-packages (from deepchem[torch]) (1.4.2)\n",
            "Requirement already satisfied: numpy>=1.21 in /usr/local/lib/python3.11/dist-packages (from deepchem[torch]) (1.26.4)\n",
            "Requirement already satisfied: pandas in /usr/local/lib/python3.11/dist-packages (from deepchem[torch]) (2.2.2)\n",
            "Requirement already satisfied: scikit-learn in /usr/local/lib/python3.11/dist-packages (from deepchem[torch]) (1.5.2)\n",
            "Requirement already satisfied: sympy in /usr/local/lib/python3.11/dist-packages (from deepchem[torch]) (1.13.1)\n",
            "Requirement already satisfied: scipy>=1.10.1 in /usr/local/lib/python3.11/dist-packages (from deepchem[torch]) (1.15.2)\n",
            "Requirement already satisfied: rdkit in /usr/local/lib/python3.11/dist-packages (from deepchem[torch]) (2023.9.6)\n",
            "Requirement already satisfied: torch in /usr/local/lib/python3.11/dist-packages (from deepchem[torch]) (2.6.0+cu124)\n",
            "Requirement already satisfied: torchvision in /usr/local/lib/python3.11/dist-packages (from deepchem[torch]) (0.21.0+cu124)\n",
            "Collecting pytorch-lightning (from deepchem[torch])\n",
            "  Downloading pytorch_lightning-2.5.1.post0-py3-none-any.whl.metadata (20 kB)\n",
            "Collecting dgl (from deepchem[torch])\n",
            "  Downloading dgl-2.1.0-cp311-cp311-manylinux1_x86_64.whl.metadata (553 bytes)\n",
            "Collecting dgllife (from deepchem[torch])\n",
            "  Downloading dgllife-0.3.2-py3-none-any.whl.metadata (667 bytes)\n",
            "Requirement already satisfied: networkx>=2.1 in /usr/local/lib/python3.11/dist-packages (from dgl->deepchem[torch]) (3.4.2)\n",
            "Requirement already satisfied: requests>=2.19.0 in /usr/local/lib/python3.11/dist-packages (from dgl->deepchem[torch]) (2.32.3)\n",
            "Requirement already satisfied: tqdm in /usr/local/lib/python3.11/dist-packages (from dgl->deepchem[torch]) (4.67.1)\n",
            "Requirement already satisfied: psutil>=5.8.0 in /usr/local/lib/python3.11/dist-packages (from dgl->deepchem[torch]) (5.9.5)\n",
            "Collecting torchdata>=0.5.0 (from dgl->deepchem[torch])\n",
            "  Downloading torchdata-0.11.0-py3-none-any.whl.metadata (6.3 kB)\n",
            "Requirement already satisfied: hyperopt in /usr/local/lib/python3.11/dist-packages (from dgllife->deepchem[torch]) (0.2.7)\n",
            "Requirement already satisfied: threadpoolctl>=3.1.0 in /usr/local/lib/python3.11/dist-packages (from scikit-learn->deepchem[torch]) (3.6.0)\n",
            "Requirement already satisfied: python-dateutil>=2.8.2 in /usr/local/lib/python3.11/dist-packages (from pandas->deepchem[torch]) (2.9.0.post0)\n",
            "Requirement already satisfied: pytz>=2020.1 in /usr/local/lib/python3.11/dist-packages (from pandas->deepchem[torch]) (2025.2)\n",
            "Requirement already satisfied: tzdata>=2022.7 in /usr/local/lib/python3.11/dist-packages (from pandas->deepchem[torch]) (2025.2)\n",
            "Requirement already satisfied: PyYAML>=5.4 in /usr/local/lib/python3.11/dist-packages (from pytorch-lightning->deepchem[torch]) (6.0.2)\n",
            "Requirement already satisfied: fsspec>=2022.5.0 in /usr/local/lib/python3.11/dist-packages (from fsspec[http]>=2022.5.0->pytorch-lightning->deepchem[torch]) (2024.3.1)\n",
            "Collecting torchmetrics>=0.7.0 (from pytorch-lightning->deepchem[torch])\n",
            "  Downloading torchmetrics-1.7.1-py3-none-any.whl.metadata (21 kB)\n",
            "Requirement already satisfied: packaging>=20.0 in /usr/local/lib/python3.11/dist-packages (from pytorch-lightning->deepchem[torch]) (24.2)\n",
            "Requirement already satisfied: typing-extensions>=4.4.0 in /usr/local/lib/python3.11/dist-packages (from pytorch-lightning->deepchem[torch]) (4.13.2)\n",
            "Collecting lightning-utilities>=0.10.0 (from pytorch-lightning->deepchem[torch])\n",
            "  Downloading lightning_utilities-0.14.3-py3-none-any.whl.metadata (5.6 kB)\n",
            "Requirement already satisfied: filelock in /usr/local/lib/python3.11/dist-packages (from torch->deepchem[torch]) (3.18.0)\n",
            "Requirement already satisfied: jinja2 in /usr/local/lib/python3.11/dist-packages (from torch->deepchem[torch]) (3.1.6)\n",
            "Requirement already satisfied: nvidia-cuda-nvrtc-cu12==12.4.127 in /usr/local/lib/python3.11/dist-packages (from torch->deepchem[torch]) (12.4.127)\n",
            "Requirement already satisfied: nvidia-cuda-runtime-cu12==12.4.127 in /usr/local/lib/python3.11/dist-packages (from torch->deepchem[torch]) (12.4.127)\n",
            "Requirement already satisfied: nvidia-cuda-cupti-cu12==12.4.127 in /usr/local/lib/python3.11/dist-packages (from torch->deepchem[torch]) (12.4.127)\n",
            "Requirement already satisfied: nvidia-cudnn-cu12==9.1.0.70 in /usr/local/lib/python3.11/dist-packages (from torch->deepchem[torch]) (9.1.0.70)\n",
            "Requirement already satisfied: nvidia-cublas-cu12==12.4.5.8 in /usr/local/lib/python3.11/dist-packages (from torch->deepchem[torch]) (12.4.5.8)\n",
            "Requirement already satisfied: nvidia-cufft-cu12==11.2.1.3 in /usr/local/lib/python3.11/dist-packages (from torch->deepchem[torch]) (11.2.1.3)\n",
            "Requirement already satisfied: nvidia-curand-cu12==10.3.5.147 in /usr/local/lib/python3.11/dist-packages (from torch->deepchem[torch]) (10.3.5.147)\n",
            "Requirement already satisfied: nvidia-cusolver-cu12==11.6.1.9 in /usr/local/lib/python3.11/dist-packages (from torch->deepchem[torch]) (11.6.1.9)\n",
            "Requirement already satisfied: nvidia-cusparse-cu12==12.3.1.170 in /usr/local/lib/python3.11/dist-packages (from torch->deepchem[torch]) (12.3.1.170)\n",
            "Requirement already satisfied: nvidia-cusparselt-cu12==0.6.2 in /usr/local/lib/python3.11/dist-packages (from torch->deepchem[torch]) (0.6.2)\n",
            "Requirement already satisfied: nvidia-nccl-cu12==2.21.5 in /usr/local/lib/python3.11/dist-packages (from torch->deepchem[torch]) (2.21.5)\n",
            "Requirement already satisfied: nvidia-nvtx-cu12==12.4.127 in /usr/local/lib/python3.11/dist-packages (from torch->deepchem[torch]) (12.4.127)\n",
            "Requirement already satisfied: nvidia-nvjitlink-cu12==12.4.127 in /usr/local/lib/python3.11/dist-packages (from torch->deepchem[torch]) (12.4.127)\n",
            "Requirement already satisfied: triton==3.2.0 in /usr/local/lib/python3.11/dist-packages (from torch->deepchem[torch]) (3.2.0)\n",
            "Requirement already satisfied: mpmath<1.4,>=1.1.0 in /usr/local/lib/python3.11/dist-packages (from sympy->deepchem[torch]) (1.3.0)\n",
            "Requirement already satisfied: Pillow in /usr/local/lib/python3.11/dist-packages (from rdkit->deepchem[torch]) (11.2.1)\n",
            "Requirement already satisfied: aiohttp!=4.0.0a0,!=4.0.0a1 in /usr/local/lib/python3.11/dist-packages (from fsspec[http]>=2022.5.0->pytorch-lightning->deepchem[torch]) (3.11.15)\n",
            "Requirement already satisfied: setuptools in /usr/local/lib/python3.11/dist-packages (from lightning-utilities>=0.10.0->pytorch-lightning->deepchem[torch]) (75.2.0)\n",
            "Requirement already satisfied: six>=1.5 in /usr/local/lib/python3.11/dist-packages (from python-dateutil>=2.8.2->pandas->deepchem[torch]) (1.17.0)\n",
            "Requirement already satisfied: charset-normalizer<4,>=2 in /usr/local/lib/python3.11/dist-packages (from requests>=2.19.0->dgl->deepchem[torch]) (3.4.1)\n",
            "Requirement already satisfied: idna<4,>=2.5 in /usr/local/lib/python3.11/dist-packages (from requests>=2.19.0->dgl->deepchem[torch]) (3.10)\n",
            "Requirement already satisfied: urllib3<3,>=1.21.1 in /usr/local/lib/python3.11/dist-packages (from requests>=2.19.0->dgl->deepchem[torch]) (2.4.0)\n",
            "Requirement already satisfied: certifi>=2017.4.17 in /usr/local/lib/python3.11/dist-packages (from requests>=2.19.0->dgl->deepchem[torch]) (2025.4.26)\n",
            "Requirement already satisfied: future in /usr/local/lib/python3.11/dist-packages (from hyperopt->dgllife->deepchem[torch]) (1.0.0)\n",
            "Requirement already satisfied: cloudpickle in /usr/local/lib/python3.11/dist-packages (from hyperopt->dgllife->deepchem[torch]) (3.1.1)\n",
            "Requirement already satisfied: py4j in /usr/local/lib/python3.11/dist-packages (from hyperopt->dgllife->deepchem[torch]) (0.10.9.7)\n",
            "Requirement already satisfied: MarkupSafe>=2.0 in /usr/local/lib/python3.11/dist-packages (from jinja2->torch->deepchem[torch]) (3.0.2)\n",
            "Requirement already satisfied: aiohappyeyeballs>=2.3.0 in /usr/local/lib/python3.11/dist-packages (from aiohttp!=4.0.0a0,!=4.0.0a1->fsspec[http]>=2022.5.0->pytorch-lightning->deepchem[torch]) (2.6.1)\n",
            "Requirement already satisfied: aiosignal>=1.1.2 in /usr/local/lib/python3.11/dist-packages (from aiohttp!=4.0.0a0,!=4.0.0a1->fsspec[http]>=2022.5.0->pytorch-lightning->deepchem[torch]) (1.3.2)\n",
            "Requirement already satisfied: attrs>=17.3.0 in /usr/local/lib/python3.11/dist-packages (from aiohttp!=4.0.0a0,!=4.0.0a1->fsspec[http]>=2022.5.0->pytorch-lightning->deepchem[torch]) (25.3.0)\n",
            "Requirement already satisfied: frozenlist>=1.1.1 in /usr/local/lib/python3.11/dist-packages (from aiohttp!=4.0.0a0,!=4.0.0a1->fsspec[http]>=2022.5.0->pytorch-lightning->deepchem[torch]) (1.6.0)\n",
            "Requirement already satisfied: multidict<7.0,>=4.5 in /usr/local/lib/python3.11/dist-packages (from aiohttp!=4.0.0a0,!=4.0.0a1->fsspec[http]>=2022.5.0->pytorch-lightning->deepchem[torch]) (6.4.3)\n",
            "Requirement already satisfied: propcache>=0.2.0 in /usr/local/lib/python3.11/dist-packages (from aiohttp!=4.0.0a0,!=4.0.0a1->fsspec[http]>=2022.5.0->pytorch-lightning->deepchem[torch]) (0.3.1)\n",
            "Requirement already satisfied: yarl<2.0,>=1.17.0 in /usr/local/lib/python3.11/dist-packages (from aiohttp!=4.0.0a0,!=4.0.0a1->fsspec[http]>=2022.5.0->pytorch-lightning->deepchem[torch]) (1.20.0)\n",
            "Downloading dgl-2.1.0-cp311-cp311-manylinux1_x86_64.whl (8.6 MB)\n",
            "\u001b[2K   \u001b[90m━━━━━━━━━━━━━━━━━━━━━━━━━━━━━━━━━━━━━━━━\u001b[0m \u001b[32m8.6/8.6 MB\u001b[0m \u001b[31m36.7 MB/s\u001b[0m eta \u001b[36m0:00:00\u001b[0m\n",
            "\u001b[?25hDownloading dgllife-0.3.2-py3-none-any.whl (226 kB)\n",
            "\u001b[2K   \u001b[90m━━━━━━━━━━━━━━━━━━━━━━━━━━━━━━━━━━━━━━━━\u001b[0m \u001b[32m226.1/226.1 kB\u001b[0m \u001b[31m17.0 MB/s\u001b[0m eta \u001b[36m0:00:00\u001b[0m\n",
            "\u001b[?25hDownloading pytorch_lightning-2.5.1.post0-py3-none-any.whl (823 kB)\n",
            "\u001b[2K   \u001b[90m━━━━━━━━━━━━━━━━━━━━━━━━━━━━━━━━━━━━━━━━\u001b[0m \u001b[32m823.1/823.1 kB\u001b[0m \u001b[31m27.2 MB/s\u001b[0m eta \u001b[36m0:00:00\u001b[0m\n",
            "\u001b[?25hDownloading lightning_utilities-0.14.3-py3-none-any.whl (28 kB)\n",
            "Downloading torchdata-0.11.0-py3-none-any.whl (61 kB)\n",
            "\u001b[2K   \u001b[90m━━━━━━━━━━━━━━━━━━━━━━━━━━━━━━━━━━━━━━━━\u001b[0m \u001b[32m62.0/62.0 kB\u001b[0m \u001b[31m4.1 MB/s\u001b[0m eta \u001b[36m0:00:00\u001b[0m\n",
            "\u001b[?25hDownloading torchmetrics-1.7.1-py3-none-any.whl (961 kB)\n",
            "\u001b[2K   \u001b[90m━━━━━━━━━━━━━━━━━━━━━━━━━━━━━━━━━━━━━━━━\u001b[0m \u001b[32m961.5/961.5 kB\u001b[0m \u001b[31m37.2 MB/s\u001b[0m eta \u001b[36m0:00:00\u001b[0m\n",
            "\u001b[?25hInstalling collected packages: lightning-utilities, dgllife, torchmetrics, torchdata, pytorch-lightning, dgl\n",
            "Successfully installed dgl-2.1.0 dgllife-0.3.2 lightning-utilities-0.14.3 pytorch-lightning-2.5.1.post0 torchdata-0.11.0 torchmetrics-1.7.1\n"
          ]
        }
      ]
    },
    {
      "cell_type": "code",
      "source": [
        "pip install  torch_geometric"
      ],
      "metadata": {
        "colab": {
          "base_uri": "https://localhost:8080/"
        },
        "id": "aaJwr0_mDspK",
        "outputId": "99c27773-40d9-44d5-8293-ece5fa53eb38"
      },
      "execution_count": 5,
      "outputs": [
        {
          "output_type": "stream",
          "name": "stdout",
          "text": [
            "Collecting torch_geometric\n",
            "  Downloading torch_geometric-2.6.1-py3-none-any.whl.metadata (63 kB)\n",
            "\u001b[?25l     \u001b[90m━━━━━━━━━━━━━━━━━━━━━━━━━━━━━━━━━━━━━━━━\u001b[0m \u001b[32m0.0/63.1 kB\u001b[0m \u001b[31m?\u001b[0m eta \u001b[36m-:--:--\u001b[0m\r\u001b[2K     \u001b[90m━━━━━━━━━━━━━━━━━━━━━━━━━━━━━━━━━━━━━━━━\u001b[0m \u001b[32m63.1/63.1 kB\u001b[0m \u001b[31m2.6 MB/s\u001b[0m eta \u001b[36m0:00:00\u001b[0m\n",
            "\u001b[?25hRequirement already satisfied: aiohttp in /usr/local/lib/python3.11/dist-packages (from torch_geometric) (3.11.15)\n",
            "Requirement already satisfied: fsspec in /usr/local/lib/python3.11/dist-packages (from torch_geometric) (2024.3.1)\n",
            "Requirement already satisfied: jinja2 in /usr/local/lib/python3.11/dist-packages (from torch_geometric) (3.1.6)\n",
            "Requirement already satisfied: numpy in /usr/local/lib/python3.11/dist-packages (from torch_geometric) (1.26.4)\n",
            "Requirement already satisfied: psutil>=5.8.0 in /usr/local/lib/python3.11/dist-packages (from torch_geometric) (5.9.5)\n",
            "Requirement already satisfied: pyparsing in /usr/local/lib/python3.11/dist-packages (from torch_geometric) (3.2.3)\n",
            "Requirement already satisfied: requests in /usr/local/lib/python3.11/dist-packages (from torch_geometric) (2.32.3)\n",
            "Requirement already satisfied: tqdm in /usr/local/lib/python3.11/dist-packages (from torch_geometric) (4.67.1)\n",
            "Requirement already satisfied: aiohappyeyeballs>=2.3.0 in /usr/local/lib/python3.11/dist-packages (from aiohttp->torch_geometric) (2.6.1)\n",
            "Requirement already satisfied: aiosignal>=1.1.2 in /usr/local/lib/python3.11/dist-packages (from aiohttp->torch_geometric) (1.3.2)\n",
            "Requirement already satisfied: attrs>=17.3.0 in /usr/local/lib/python3.11/dist-packages (from aiohttp->torch_geometric) (25.3.0)\n",
            "Requirement already satisfied: frozenlist>=1.1.1 in /usr/local/lib/python3.11/dist-packages (from aiohttp->torch_geometric) (1.6.0)\n",
            "Requirement already satisfied: multidict<7.0,>=4.5 in /usr/local/lib/python3.11/dist-packages (from aiohttp->torch_geometric) (6.4.3)\n",
            "Requirement already satisfied: propcache>=0.2.0 in /usr/local/lib/python3.11/dist-packages (from aiohttp->torch_geometric) (0.3.1)\n",
            "Requirement already satisfied: yarl<2.0,>=1.17.0 in /usr/local/lib/python3.11/dist-packages (from aiohttp->torch_geometric) (1.20.0)\n",
            "Requirement already satisfied: MarkupSafe>=2.0 in /usr/local/lib/python3.11/dist-packages (from jinja2->torch_geometric) (3.0.2)\n",
            "Requirement already satisfied: charset-normalizer<4,>=2 in /usr/local/lib/python3.11/dist-packages (from requests->torch_geometric) (3.4.1)\n",
            "Requirement already satisfied: idna<4,>=2.5 in /usr/local/lib/python3.11/dist-packages (from requests->torch_geometric) (3.10)\n",
            "Requirement already satisfied: urllib3<3,>=1.21.1 in /usr/local/lib/python3.11/dist-packages (from requests->torch_geometric) (2.4.0)\n",
            "Requirement already satisfied: certifi>=2017.4.17 in /usr/local/lib/python3.11/dist-packages (from requests->torch_geometric) (2025.4.26)\n",
            "Downloading torch_geometric-2.6.1-py3-none-any.whl (1.1 MB)\n",
            "\u001b[2K   \u001b[90m━━━━━━━━━━━━━━━━━━━━━━━━━━━━━━━━━━━━━━━━\u001b[0m \u001b[32m1.1/1.1 MB\u001b[0m \u001b[31m13.8 MB/s\u001b[0m eta \u001b[36m0:00:00\u001b[0m\n",
            "\u001b[?25hInstalling collected packages: torch_geometric\n",
            "Successfully installed torch_geometric-2.6.1\n"
          ]
        }
      ]
    },
    {
      "cell_type": "markdown",
      "source": [
        "# **Experiment 1: using MultitaskFitTransformRegressor**"
      ],
      "metadata": {
        "id": "f4tNPH-gX5AR"
      }
    },
    {
      "cell_type": "markdown",
      "source": [
        "# Preprocessing"
      ],
      "metadata": {
        "id": "xF307t_65Sew"
      }
    },
    {
      "cell_type": "code",
      "source": [
        "pip install deepchem"
      ],
      "metadata": {
        "id": "_yCUp-DGsGFG",
        "outputId": "8d83465c-715c-45af-d497-744c2cc24a62",
        "colab": {
          "base_uri": "https://localhost:8080/"
        }
      },
      "execution_count": 2,
      "outputs": [
        {
          "output_type": "stream",
          "name": "stdout",
          "text": [
            "Collecting deepchem\n",
            "  Downloading deepchem-2.8.0-py3-none-any.whl.metadata (2.0 kB)\n",
            "Requirement already satisfied: joblib in /usr/local/lib/python3.11/dist-packages (from deepchem) (1.4.2)\n",
            "Requirement already satisfied: numpy>=1.21 in /usr/local/lib/python3.11/dist-packages (from deepchem) (1.26.4)\n",
            "Requirement already satisfied: pandas in /usr/local/lib/python3.11/dist-packages (from deepchem) (2.2.2)\n",
            "Requirement already satisfied: scikit-learn in /usr/local/lib/python3.11/dist-packages (from deepchem) (1.5.2)\n",
            "Requirement already satisfied: sympy in /usr/local/lib/python3.11/dist-packages (from deepchem) (1.13.1)\n",
            "Requirement already satisfied: scipy>=1.10.1 in /usr/local/lib/python3.11/dist-packages (from deepchem) (1.15.2)\n",
            "Requirement already satisfied: rdkit in /usr/local/lib/python3.11/dist-packages (from deepchem) (2023.9.6)\n",
            "Requirement already satisfied: python-dateutil>=2.8.2 in /usr/local/lib/python3.11/dist-packages (from pandas->deepchem) (2.9.0.post0)\n",
            "Requirement already satisfied: pytz>=2020.1 in /usr/local/lib/python3.11/dist-packages (from pandas->deepchem) (2025.2)\n",
            "Requirement already satisfied: tzdata>=2022.7 in /usr/local/lib/python3.11/dist-packages (from pandas->deepchem) (2025.2)\n",
            "Requirement already satisfied: Pillow in /usr/local/lib/python3.11/dist-packages (from rdkit->deepchem) (11.2.1)\n",
            "Requirement already satisfied: threadpoolctl>=3.1.0 in /usr/local/lib/python3.11/dist-packages (from scikit-learn->deepchem) (3.6.0)\n",
            "Requirement already satisfied: mpmath<1.4,>=1.1.0 in /usr/local/lib/python3.11/dist-packages (from sympy->deepchem) (1.3.0)\n",
            "Requirement already satisfied: six>=1.5 in /usr/local/lib/python3.11/dist-packages (from python-dateutil>=2.8.2->pandas->deepchem) (1.17.0)\n",
            "Downloading deepchem-2.8.0-py3-none-any.whl (1.0 MB)\n",
            "\u001b[2K   \u001b[90m━━━━━━━━━━━━━━━━━━━━━━━━━━━━━━━━━━━━━━━━\u001b[0m \u001b[32m1.0/1.0 MB\u001b[0m \u001b[31m10.9 MB/s\u001b[0m eta \u001b[36m0:00:00\u001b[0m\n",
            "\u001b[?25hInstalling collected packages: deepchem\n",
            "Successfully installed deepchem-2.8.0\n"
          ]
        }
      ]
    },
    {
      "cell_type": "code",
      "source": [
        "import deepchem as dc"
      ],
      "metadata": {
        "id": "oPt9yKQnJHrR"
      },
      "execution_count": null,
      "outputs": []
    },
    {
      "cell_type": "code",
      "source": [
        "import numpy as np\n",
        "\n",
        "with dc.utils.UniversalNamedTemporaryFile(mode='w') as tmpfile:\n",
        "    dataset.get_data().to_csv(tmpfile.name, index=False)\n",
        "    featurizer = dc.feat.RDKitDescriptors()\n",
        "    loader = dc.data.CSVLoader([\"Y\"], feature_field=\"Drug\", featurizer=featurizer)\n",
        "    data = loader.create_dataset(tmpfile.name)\n",
        "\n",
        "X_clean = []\n",
        "y_clean = []\n",
        "\n",
        "for x, y in zip(data.X, data.y):\n",
        "    if not np.any(np.isnan(x)):\n",
        "        X_clean.append(x)\n",
        "        y_clean.append(y)\n",
        "\n",
        "from deepchem.data import NumpyDataset\n",
        "clean_data = NumpyDataset(X=np.array(X_clean), y=np.array(y_clean))\n"
      ],
      "metadata": {
        "colab": {
          "base_uri": "https://localhost:8080/"
        },
        "id": "j6jEtgh5IohA",
        "outputId": "74f97648-3a62-4578-c2cb-0a766320c0ba"
      },
      "execution_count": null,
      "outputs": [
        {
          "output_type": "stream",
          "name": "stderr",
          "text": [
            "[18:25:41] WARNING: not removing hydrogen atom without neighbors\n",
            "[18:25:41] WARNING: not removing hydrogen atom without neighbors\n",
            "[18:25:41] WARNING: not removing hydrogen atom without neighbors\n",
            "[18:25:42] WARNING: not removing hydrogen atom without neighbors\n",
            "[18:25:42] WARNING: not removing hydrogen atom without neighbors\n",
            "[18:25:42] WARNING: not removing hydrogen atom without neighbors\n",
            "[18:25:42] WARNING: not removing hydrogen atom without neighbors\n",
            "[18:25:42] WARNING: not removing hydrogen atom without neighbors\n",
            "[18:25:42] WARNING: not removing hydrogen atom without neighbors\n",
            "[18:25:44] WARNING: not removing hydrogen atom without neighbors\n",
            "[18:25:44] WARNING: not removing hydrogen atom without neighbors\n",
            "[18:25:44] WARNING: not removing hydrogen atom without neighbors\n",
            "[18:25:44] WARNING: not removing hydrogen atom without neighbors\n",
            "[18:25:44] WARNING: not removing hydrogen atom without neighbors\n",
            "[18:25:44] WARNING: not removing hydrogen atom without neighbors\n",
            "[18:25:44] WARNING: not removing hydrogen atom without neighbors\n",
            "[18:25:44] WARNING: not removing hydrogen atom without neighbors\n",
            "[18:25:44] WARNING: not removing hydrogen atom without neighbors\n",
            "[18:25:44] WARNING: not removing hydrogen atom without neighbors\n",
            "[18:25:45] WARNING: not removing hydrogen atom without neighbors\n",
            "[18:25:45] WARNING: not removing hydrogen atom without neighbors\n",
            "[18:25:45] WARNING: not removing hydrogen atom without neighbors\n",
            "[18:25:46] WARNING: not removing hydrogen atom without neighbors\n",
            "[18:25:46] WARNING: not removing hydrogen atom without neighbors\n",
            "[18:25:46] WARNING: not removing hydrogen atom without neighbors\n",
            "[18:25:46] WARNING: not removing hydrogen atom without neighbors\n",
            "[18:25:46] WARNING: not removing hydrogen atom without neighbors\n",
            "[18:25:46] WARNING: not removing hydrogen atom without neighbors\n",
            "[18:25:46] WARNING: not removing hydrogen atom without neighbors\n",
            "[18:25:46] WARNING: not removing hydrogen atom without neighbors\n",
            "[18:25:46] WARNING: not removing hydrogen atom without neighbors\n",
            "[18:25:46] WARNING: not removing hydrogen atom without neighbors\n",
            "[18:25:46] WARNING: not removing hydrogen atom without neighbors\n",
            "[18:25:46] WARNING: not removing hydrogen atom without neighbors\n",
            "[18:25:46] WARNING: not removing hydrogen atom without neighbors\n",
            "[18:25:47] WARNING: not removing hydrogen atom without neighbors\n",
            "[18:25:47] WARNING: not removing hydrogen atom without neighbors\n",
            "[18:25:47] WARNING: not removing hydrogen atom without neighbors\n",
            "[18:25:47] WARNING: not removing hydrogen atom without neighbors\n",
            "[18:25:47] WARNING: not removing hydrogen atom without neighbors\n",
            "[18:25:47] WARNING: not removing hydrogen atom without neighbors\n",
            "[18:25:48] WARNING: not removing hydrogen atom without neighbors\n",
            "[18:25:48] WARNING: not removing hydrogen atom without neighbors\n",
            "[18:25:48] WARNING: not removing hydrogen atom without neighbors\n",
            "[18:25:48] WARNING: not removing hydrogen atom without neighbors\n",
            "[18:25:48] WARNING: not removing hydrogen atom without neighbors\n",
            "[18:25:48] WARNING: not removing hydrogen atom without neighbors\n",
            "[18:25:49] WARNING: not removing hydrogen atom without neighbors\n",
            "[18:25:49] WARNING: not removing hydrogen atom without neighbors\n",
            "[18:25:49] WARNING: not removing hydrogen atom without neighbors\n",
            "[18:26:05] WARNING: not removing hydrogen atom without neighbors\n",
            "[18:26:05] WARNING: not removing hydrogen atom without neighbors\n",
            "[18:26:05] WARNING: not removing hydrogen atom without neighbors\n",
            "[18:26:05] WARNING: not removing hydrogen atom without neighbors\n",
            "[18:26:05] WARNING: not removing hydrogen atom without neighbors\n",
            "[18:26:05] WARNING: not removing hydrogen atom without neighbors\n",
            "[18:26:05] WARNING: not removing hydrogen atom without neighbors\n",
            "[18:26:05] WARNING: not removing hydrogen atom without neighbors\n",
            "[18:26:05] WARNING: not removing hydrogen atom without neighbors\n",
            "[18:26:05] WARNING: not removing hydrogen atom without neighbors\n",
            "[18:26:05] WARNING: not removing hydrogen atom without neighbors\n",
            "[18:26:05] WARNING: not removing hydrogen atom without neighbors\n",
            "[18:26:05] WARNING: not removing hydrogen atom without neighbors\n",
            "[18:26:05] WARNING: not removing hydrogen atom without neighbors\n",
            "[18:26:05] WARNING: not removing hydrogen atom without neighbors\n",
            "[18:26:05] WARNING: not removing hydrogen atom without neighbors\n",
            "[18:26:05] WARNING: not removing hydrogen atom without neighbors\n",
            "[18:26:05] WARNING: not removing hydrogen atom without neighbors\n",
            "[18:26:05] WARNING: not removing hydrogen atom without neighbors\n",
            "[18:26:05] WARNING: not removing hydrogen atom without neighbors\n",
            "[18:26:05] WARNING: not removing hydrogen atom without neighbors\n",
            "[18:26:05] WARNING: not removing hydrogen atom without neighbors\n",
            "[18:26:05] WARNING: not removing hydrogen atom without neighbors\n",
            "[18:26:05] WARNING: not removing hydrogen atom without neighbors\n",
            "[18:26:05] WARNING: not removing hydrogen atom without neighbors\n",
            "[18:26:05] WARNING: not removing hydrogen atom without neighbors\n",
            "[18:26:05] WARNING: not removing hydrogen atom without neighbors\n",
            "[18:26:05] WARNING: not removing hydrogen atom without neighbors\n",
            "[18:26:05] WARNING: not removing hydrogen atom without neighbors\n",
            "[18:26:05] WARNING: not removing hydrogen atom without neighbors\n",
            "[18:26:05] WARNING: not removing hydrogen atom without neighbors\n",
            "[18:26:05] WARNING: not removing hydrogen atom without neighbors\n",
            "[18:26:05] WARNING: not removing hydrogen atom without neighbors\n",
            "[18:26:05] WARNING: not removing hydrogen atom without neighbors\n",
            "[18:26:05] WARNING: not removing hydrogen atom without neighbors\n",
            "[18:26:05] WARNING: not removing hydrogen atom without neighbors\n",
            "[18:26:05] WARNING: not removing hydrogen atom without neighbors\n",
            "[18:26:05] WARNING: not removing hydrogen atom without neighbors\n",
            "[18:26:05] WARNING: not removing hydrogen atom without neighbors\n",
            "[18:26:05] WARNING: not removing hydrogen atom without neighbors\n",
            "[18:26:08] WARNING: not removing hydrogen atom without neighbors\n",
            "[18:26:08] WARNING: not removing hydrogen atom without neighbors\n",
            "[18:26:08] WARNING: not removing hydrogen atom without neighbors\n",
            "[18:26:08] WARNING: not removing hydrogen atom without neighbors\n",
            "[18:26:08] WARNING: not removing hydrogen atom without neighbors\n",
            "[18:26:08] WARNING: not removing hydrogen atom without neighbors\n",
            "[18:26:08] WARNING: not removing hydrogen atom without neighbors\n",
            "[18:26:08] WARNING: not removing hydrogen atom without neighbors\n",
            "[18:26:08] WARNING: not removing hydrogen atom without neighbors\n",
            "[18:26:09] WARNING: not removing hydrogen atom without neighbors\n",
            "[18:26:09] WARNING: not removing hydrogen atom without neighbors\n",
            "[18:26:09] WARNING: not removing hydrogen atom without neighbors\n",
            "[18:26:10] WARNING: not removing hydrogen atom without neighbors\n",
            "[18:26:10] WARNING: not removing hydrogen atom without neighbors\n",
            "[18:26:10] WARNING: not removing hydrogen atom without neighbors\n",
            "[18:26:11] WARNING: not removing hydrogen atom without neighbors\n",
            "[18:26:11] WARNING: not removing hydrogen atom without neighbors\n",
            "[18:26:11] WARNING: not removing hydrogen atom without neighbors\n",
            "[18:26:14] WARNING: not removing hydrogen atom without neighbors\n",
            "[18:26:14] WARNING: not removing hydrogen atom without neighbors\n",
            "[18:26:14] WARNING: not removing hydrogen atom without neighbors\n",
            "[18:26:15] WARNING: not removing hydrogen atom without neighbors\n",
            "[18:26:15] WARNING: not removing hydrogen atom without neighbors\n",
            "[18:26:15] WARNING: not removing hydrogen atom without neighbors\n",
            "[18:26:15] WARNING: not removing hydrogen atom without neighbors\n",
            "[18:26:15] WARNING: not removing hydrogen atom without neighbors\n",
            "[18:26:15] WARNING: not removing hydrogen atom without neighbors\n",
            "[18:26:18] WARNING: not removing hydrogen atom without neighbors\n",
            "[18:26:18] WARNING: not removing hydrogen atom without neighbors\n",
            "[18:26:18] WARNING: not removing hydrogen atom without neighbors\n",
            "[18:26:18] WARNING: not removing hydrogen atom without neighbors\n",
            "[18:26:18] WARNING: not removing hydrogen atom without neighbors\n",
            "[18:26:18] WARNING: not removing hydrogen atom without neighbors\n",
            "[18:26:19] WARNING: not removing hydrogen atom without neighbors\n",
            "[18:26:19] WARNING: not removing hydrogen atom without neighbors\n",
            "[18:26:19] WARNING: not removing hydrogen atom without neighbors\n",
            "[18:26:19] WARNING: not removing hydrogen atom without neighbors\n",
            "[18:26:19] WARNING: not removing hydrogen atom without neighbors\n",
            "[18:26:19] WARNING: not removing hydrogen atom without neighbors\n",
            "[18:26:19] WARNING: not removing hydrogen atom without neighbors\n",
            "[18:26:19] WARNING: not removing hydrogen atom without neighbors\n",
            "[18:26:19] WARNING: not removing hydrogen atom without neighbors\n",
            "[18:26:19] WARNING: not removing hydrogen atom without neighbors\n",
            "[18:26:19] WARNING: not removing hydrogen atom without neighbors\n",
            "[18:26:19] WARNING: not removing hydrogen atom without neighbors\n",
            "[18:26:19] WARNING: not removing hydrogen atom without neighbors\n",
            "[18:26:19] WARNING: not removing hydrogen atom without neighbors\n",
            "[18:26:19] WARNING: not removing hydrogen atom without neighbors\n",
            "[18:26:19] WARNING: not removing hydrogen atom without neighbors\n",
            "[18:26:19] WARNING: not removing hydrogen atom without neighbors\n",
            "[18:26:19] WARNING: not removing hydrogen atom without neighbors\n",
            "[18:26:20] WARNING: not removing hydrogen atom without neighbors\n",
            "[18:26:20] WARNING: not removing hydrogen atom without neighbors\n",
            "[18:26:20] WARNING: not removing hydrogen atom without neighbors\n",
            "[18:26:21] WARNING: not removing hydrogen atom without neighbors\n",
            "[18:26:21] WARNING: not removing hydrogen atom without neighbors\n",
            "[18:26:21] WARNING: not removing hydrogen atom without neighbors\n",
            "[18:26:22] WARNING: not removing hydrogen atom without neighbors\n",
            "[18:26:22] WARNING: not removing hydrogen atom without neighbors\n",
            "[18:26:22] WARNING: not removing hydrogen atom without neighbors\n",
            "[18:26:22] WARNING: not removing hydrogen atom without neighbors\n",
            "[18:26:22] WARNING: not removing hydrogen atom without neighbors\n",
            "[18:26:22] WARNING: not removing hydrogen atom without neighbors\n",
            "[18:26:22] WARNING: not removing hydrogen atom without neighbors\n",
            "[18:26:22] WARNING: not removing hydrogen atom without neighbors\n",
            "[18:26:22] WARNING: not removing hydrogen atom without neighbors\n",
            "[18:26:22] WARNING: not removing hydrogen atom without neighbors\n",
            "[18:26:22] WARNING: not removing hydrogen atom without neighbors\n",
            "[18:26:22] WARNING: not removing hydrogen atom without neighbors\n",
            "[18:26:22] WARNING: not removing hydrogen atom without neighbors\n",
            "[18:26:22] WARNING: not removing hydrogen atom without neighbors\n",
            "[18:26:22] WARNING: not removing hydrogen atom without neighbors\n",
            "[18:26:22] WARNING: not removing hydrogen atom without neighbors\n",
            "[18:26:22] WARNING: not removing hydrogen atom without neighbors\n",
            "[18:26:22] WARNING: not removing hydrogen atom without neighbors\n",
            "[18:26:22] WARNING: not removing hydrogen atom without neighbors\n",
            "[18:26:24] WARNING: not removing hydrogen atom without neighbors\n",
            "[18:26:24] WARNING: not removing hydrogen atom without neighbors\n",
            "[18:26:24] WARNING: not removing hydrogen atom without neighbors\n",
            "[18:26:24] WARNING: not removing hydrogen atom without neighbors\n",
            "[18:26:24] WARNING: not removing hydrogen atom without neighbors\n",
            "[18:26:24] WARNING: not removing hydrogen atom without neighbors\n",
            "[18:26:24] WARNING: not removing hydrogen atom without neighbors\n",
            "[18:26:24] WARNING: not removing hydrogen atom without neighbors\n",
            "[18:26:24] WARNING: not removing hydrogen atom without neighbors\n",
            "[18:26:26] WARNING: not removing hydrogen atom without neighbors\n",
            "[18:26:26] WARNING: not removing hydrogen atom without neighbors\n",
            "[18:26:26] WARNING: not removing hydrogen atom without neighbors\n",
            "[18:26:26] WARNING: not removing hydrogen atom without neighbors\n",
            "[18:26:26] WARNING: not removing hydrogen atom without neighbors\n",
            "[18:26:26] WARNING: not removing hydrogen atom without neighbors\n",
            "[18:26:31] WARNING: not removing hydrogen atom without neighbors\n",
            "[18:26:31] WARNING: not removing hydrogen atom without neighbors\n",
            "[18:26:31] WARNING: not removing hydrogen atom without neighbors\n",
            "[18:26:31] WARNING: not removing hydrogen atom without neighbors\n",
            "[18:26:31] WARNING: not removing hydrogen atom without neighbors\n",
            "[18:26:31] WARNING: not removing hydrogen atom without neighbors\n",
            "[18:26:33] WARNING: not removing hydrogen atom without neighbors\n",
            "[18:26:33] WARNING: not removing hydrogen atom without neighbors\n",
            "[18:26:33] WARNING: not removing hydrogen atom without neighbors\n",
            "[18:26:33] WARNING: not removing hydrogen atom without neighbors\n",
            "[18:26:33] WARNING: not removing hydrogen atom without neighbors\n",
            "[18:26:33] WARNING: not removing hydrogen atom without neighbors\n",
            "[18:26:34] WARNING: not removing hydrogen atom without neighbors\n",
            "[18:26:34] WARNING: not removing hydrogen atom without neighbors\n",
            "[18:26:34] WARNING: not removing hydrogen atom without neighbors\n",
            "[18:26:34] WARNING: not removing hydrogen atom without neighbors\n",
            "[18:26:34] WARNING: not removing hydrogen atom without neighbors\n",
            "[18:26:34] WARNING: not removing hydrogen atom without neighbors\n",
            "[18:26:35] WARNING: not removing hydrogen atom without neighbors\n",
            "[18:26:35] WARNING: not removing hydrogen atom without neighbors\n",
            "[18:26:35] WARNING: not removing hydrogen atom without neighbors\n",
            "[18:26:35] WARNING: not removing hydrogen atom without neighbors\n",
            "[18:26:35] WARNING: not removing hydrogen atom without neighbors\n",
            "[18:26:35] WARNING: not removing hydrogen atom without neighbors\n",
            "[18:26:35] WARNING: not removing hydrogen atom without neighbors\n",
            "[18:26:35] WARNING: not removing hydrogen atom without neighbors\n",
            "[18:26:35] WARNING: not removing hydrogen atom without neighbors\n",
            "[18:26:35] WARNING: not removing hydrogen atom without neighbors\n",
            "[18:26:35] WARNING: not removing hydrogen atom without neighbors\n",
            "[18:26:35] WARNING: not removing hydrogen atom without neighbors\n",
            "[18:26:35] WARNING: not removing hydrogen atom without neighbors\n",
            "[18:26:35] WARNING: not removing hydrogen atom without neighbors\n",
            "[18:26:35] WARNING: not removing hydrogen atom without neighbors\n",
            "[18:26:35] WARNING: not removing hydrogen atom without neighbors\n",
            "[18:26:35] WARNING: not removing hydrogen atom without neighbors\n",
            "[18:26:35] WARNING: not removing hydrogen atom without neighbors\n",
            "[18:26:35] WARNING: not removing hydrogen atom without neighbors\n",
            "[18:26:35] WARNING: not removing hydrogen atom without neighbors\n",
            "[18:26:35] WARNING: not removing hydrogen atom without neighbors\n",
            "[18:26:35] WARNING: not removing hydrogen atom without neighbors\n",
            "[18:26:35] WARNING: not removing hydrogen atom without neighbors\n",
            "[18:26:43] WARNING: not removing hydrogen atom without neighbors\n",
            "[18:26:43] WARNING: not removing hydrogen atom without neighbors\n",
            "[18:26:43] WARNING: not removing hydrogen atom without neighbors\n",
            "[18:26:43] WARNING: not removing hydrogen atom without neighbors\n",
            "[18:26:43] WARNING: not removing hydrogen atom without neighbors\n",
            "[18:26:43] WARNING: not removing hydrogen atom without neighbors\n",
            "[18:26:43] WARNING: not removing hydrogen atom without neighbors\n",
            "[18:26:43] WARNING: not removing hydrogen atom without neighbors\n",
            "[18:26:43] WARNING: not removing hydrogen atom without neighbors\n",
            "[18:26:43] WARNING: not removing hydrogen atom without neighbors\n",
            "[18:26:44] WARNING: not removing hydrogen atom without neighbors\n",
            "[18:26:44] WARNING: not removing hydrogen atom without neighbors\n",
            "[18:26:44] WARNING: not removing hydrogen atom without neighbors\n",
            "[18:26:45] WARNING: not removing hydrogen atom without neighbors\n",
            "[18:26:45] WARNING: not removing hydrogen atom without neighbors\n",
            "[18:26:45] WARNING: not removing hydrogen atom without neighbors\n",
            "[18:26:48] WARNING: not removing hydrogen atom without neighbors\n",
            "[18:26:48] WARNING: not removing hydrogen atom without neighbors\n",
            "[18:26:48] WARNING: not removing hydrogen atom without neighbors\n",
            "[18:26:48] WARNING: not removing hydrogen atom without neighbors\n",
            "[18:26:48] WARNING: not removing hydrogen atom without neighbors\n",
            "[18:26:48] WARNING: not removing hydrogen atom without neighbors\n",
            "[18:26:48] WARNING: not removing hydrogen atom without neighbors\n",
            "[18:26:48] WARNING: not removing hydrogen atom without neighbors\n",
            "[18:26:48] WARNING: not removing hydrogen atom without neighbors\n",
            "[18:26:50] WARNING: not removing hydrogen atom without neighbors\n",
            "[18:26:50] WARNING: not removing hydrogen atom without neighbors\n",
            "[18:26:50] WARNING: not removing hydrogen atom without neighbors\n",
            "[18:26:55] WARNING: not removing hydrogen atom without neighbors\n",
            "[18:26:55] WARNING: not removing hydrogen atom without neighbors\n",
            "[18:26:55] WARNING: not removing hydrogen atom without neighbors\n",
            "[18:27:04] WARNING: not removing hydrogen atom without neighbors\n",
            "[18:27:04] WARNING: not removing hydrogen atom without neighbors\n",
            "[18:27:04] WARNING: not removing hydrogen atom without neighbors\n",
            "[18:27:09] WARNING: not removing hydrogen atom without neighbors\n",
            "[18:27:09] WARNING: not removing hydrogen atom without neighbors\n",
            "[18:27:09] WARNING: not removing hydrogen atom without neighbors\n",
            "[18:27:14] WARNING: not removing hydrogen atom without neighbors\n",
            "[18:27:14] WARNING: not removing hydrogen atom without neighbors\n",
            "[18:27:14] WARNING: not removing hydrogen atom without neighbors\n",
            "[18:27:14] WARNING: not removing hydrogen atom without neighbors\n",
            "[18:27:14] WARNING: not removing hydrogen atom without neighbors\n",
            "[18:27:14] WARNING: not removing hydrogen atom without neighbors\n"
          ]
        }
      ]
    },
    {
      "cell_type": "code",
      "source": [
        "len(data), len(clean_data)"
      ],
      "metadata": {
        "colab": {
          "base_uri": "https://localhost:8080/",
          "height": 145
        },
        "id": "bfaSJO_ySx1q",
        "outputId": "183eb33a-e41b-483e-dddf-45fc6b973bb9"
      },
      "execution_count": 1,
      "outputs": [
        {
          "output_type": "error",
          "ename": "NameError",
          "evalue": "name 'data' is not defined",
          "traceback": [
            "\u001b[0;31m---------------------------------------------------------------------------\u001b[0m",
            "\u001b[0;31mNameError\u001b[0m                                 Traceback (most recent call last)",
            "\u001b[0;32m<ipython-input-1-dda75cc70cda>\u001b[0m in \u001b[0;36m<cell line: 0>\u001b[0;34m()\u001b[0m\n\u001b[0;32m----> 1\u001b[0;31m \u001b[0mlen\u001b[0m\u001b[0;34m(\u001b[0m\u001b[0mdata\u001b[0m\u001b[0;34m)\u001b[0m\u001b[0;34m,\u001b[0m \u001b[0mlen\u001b[0m\u001b[0;34m(\u001b[0m\u001b[0mclean_data\u001b[0m\u001b[0;34m)\u001b[0m\u001b[0;34m\u001b[0m\u001b[0;34m\u001b[0m\u001b[0m\n\u001b[0m",
            "\u001b[0;31mNameError\u001b[0m: name 'data' is not defined"
          ]
        }
      ]
    },
    {
      "cell_type": "code",
      "source": [
        "from deepchem.splits import IndexSplitter\n",
        "splitter = IndexSplitter()\n",
        "train, valid, test = splitter.train_valid_test_split(clean_data)"
      ],
      "metadata": {
        "id": "FmJyNn36JPwh"
      },
      "execution_count": null,
      "outputs": []
    },
    {
      "cell_type": "code",
      "source": [
        "train"
      ],
      "metadata": {
        "colab": {
          "base_uri": "https://localhost:8080/"
        },
        "id": "spo6f1JiOhK0",
        "outputId": "a4734606-87b8-48c8-8703-4b65a4ce82ad"
      },
      "execution_count": null,
      "outputs": [
        {
          "output_type": "execute_result",
          "data": {
            "text/plain": [
              "<NumpyDataset X.shape: (7278, 210), y.shape: (7278, 1), w.shape: (7278, 1), task_names: [0]>"
            ]
          },
          "metadata": {},
          "execution_count": 12
        }
      ]
    },
    {
      "cell_type": "code",
      "source": [
        "from torch.utils.data import DataLoader\n",
        "\n",
        "\n",
        "train_loader = DataLoader(train, batch_size=32, shuffle=True)\n",
        "valid_loader = DataLoader(valid, batch_size=32)\n",
        "test_loader = DataLoader(test, batch_size=32)"
      ],
      "metadata": {
        "id": "SjeusahoKSeI"
      },
      "execution_count": null,
      "outputs": []
    },
    {
      "cell_type": "markdown",
      "source": [
        "# Training"
      ],
      "metadata": {
        "id": "uyms6gvxLF2o"
      }
    },
    {
      "cell_type": "code",
      "source": [
        "assert not np.any(np.isnan(train.X)), \"NaNs still present in features\""
      ],
      "metadata": {
        "id": "slZholc4R4PE"
      },
      "execution_count": null,
      "outputs": []
    },
    {
      "cell_type": "code",
      "source": [
        "from sklearn.metrics import mean_absolute_error\n",
        "params_dict = {\n",
        "    'n_tasks': [1],\n",
        "    'n_features': [210],\n",
        "    'layer_sizes': [[50], [100], [100, 100]],\n",
        "    'dropouts': [0.2, 0.5],\n",
        "    'learning_rate': [0.001, 0.0001],\n",
        "    'batch_size' : [32]\n",
        "}\n",
        "optimizer = dc.hyper.GridHyperparamOpt(dc.models.MultitaskFitTransformRegressor)\n",
        "metric = dc.metrics.Metric(mean_absolute_error)\n",
        "best_model, best_hyperparams, all_results = optimizer.hyperparam_search(\n",
        "        params_dict, train, valid, metric)"
      ],
      "metadata": {
        "id": "JYeY4n9TLARo"
      },
      "execution_count": null,
      "outputs": []
    },
    {
      "cell_type": "code",
      "source": [
        "all_results"
      ],
      "metadata": {
        "colab": {
          "base_uri": "https://localhost:8080/"
        },
        "id": "rR4vdbU3TWBR",
        "outputId": "b67d1b81-3aed-4ccd-b4a0-2062d425c4f8"
      },
      "execution_count": null,
      "outputs": [
        {
          "output_type": "execute_result",
          "data": {
            "text/plain": [
              "{'_batch_size_32_dropouts_0.200000_layer_sizes[50]_learning_rate_0.001000_n_features_210_n_tasks_1': 0.712506358219896,\n",
              " '_batch_size_32_dropouts_0.200000_layer_sizes[50]_learning_rate_0.000100_n_features_210_n_tasks_1': 0.808909532337431,\n",
              " '_batch_size_32_dropouts_0.500000_layer_sizes[50]_learning_rate_0.001000_n_features_210_n_tasks_1': 0.8319260691883801,\n",
              " '_batch_size_32_dropouts_0.500000_layer_sizes[50]_learning_rate_0.000100_n_features_210_n_tasks_1': 0.8614483289164502,\n",
              " '_batch_size_32_dropouts_0.200000_layer_sizes[100]_learning_rate_0.001000_n_features_210_n_tasks_1': 0.7493239406651193,\n",
              " '_batch_size_32_dropouts_0.200000_layer_sizes[100]_learning_rate_0.000100_n_features_210_n_tasks_1': 0.7661299764330571,\n",
              " '_batch_size_32_dropouts_0.500000_layer_sizes[100]_learning_rate_0.001000_n_features_210_n_tasks_1': 0.7684160716130184,\n",
              " '_batch_size_32_dropouts_0.500000_layer_sizes[100]_learning_rate_0.000100_n_features_210_n_tasks_1': 0.8628482274136701,\n",
              " '_batch_size_32_dropouts_0.200000_layer_sizes[100, 100]_learning_rate_0.001000_n_features_210_n_tasks_1': 0.9491926677034452,\n",
              " '_batch_size_32_dropouts_0.200000_layer_sizes[100, 100]_learning_rate_0.000100_n_features_210_n_tasks_1': 0.7195610229602554,\n",
              " '_batch_size_32_dropouts_0.500000_layer_sizes[100, 100]_learning_rate_0.001000_n_features_210_n_tasks_1': 0.8238131787585689,\n",
              " '_batch_size_32_dropouts_0.500000_layer_sizes[100, 100]_learning_rate_0.000100_n_features_210_n_tasks_1': 0.8147586546889045}"
            ]
          },
          "metadata": {},
          "execution_count": 16
        }
      ]
    },
    {
      "cell_type": "code",
      "source": [
        "from deepchem.models import TorchModel\n",
        "from deepchem.models.losses import L1Loss\n",
        "from deepchem.metrics import Metric, mae_score\n",
        "from deepchem.models.callbacks import ValidationCallback\n",
        "model = dc.models.MultitaskFitTransformRegressor(n_tasks=1,\n",
        "                                      n_features=210,\n",
        "                                      layer_sizes=[1000],\n",
        "                                      dropouts=0.2,\n",
        "\n",
        "                                      learning_rate=0.0001)\n",
        "metric = Metric(mae_score, mode=\"regression\")\n",
        "\n",
        "val_cb = ValidationCallback(\n",
        "    valid,\n",
        "    interval=1000,\n",
        "    metrics=[metric]\n",
        ")\n",
        "\n",
        "# Fit model with proper callbacks list\n",
        "model.fit(train, nb_epoch=32, callbacks=[val_cb])\n",
        "\n",
        "\n"
      ],
      "metadata": {
        "colab": {
          "base_uri": "https://localhost:8080/"
        },
        "id": "nsWnZjakT0B7",
        "outputId": "34f87487-989a-4ef0-cb26-ccef03f48b0e"
      },
      "execution_count": null,
      "outputs": [
        {
          "output_type": "stream",
          "name": "stdout",
          "text": [
            "Step 1000 validation: mae_score=1.4144\n",
            "Step 2000 validation: mae_score=0.821678\n",
            "Step 3000 validation: mae_score=0.722966\n",
            "Step 4000 validation: mae_score=0.700989\n"
          ]
        },
        {
          "output_type": "execute_result",
          "data": {
            "text/plain": [
              "22.627365112304688"
            ]
          },
          "metadata": {},
          "execution_count": 17
        }
      ]
    },
    {
      "cell_type": "code",
      "source": [
        "classification_metric = Metric(mae_score,task_averager=np.mean)\n",
        "model.evaluate(test, [classification_metric])"
      ],
      "metadata": {
        "colab": {
          "base_uri": "https://localhost:8080/"
        },
        "id": "L0leNwppXQuB",
        "outputId": "b769da74-2982-48f0-a77b-0a351a70ef7b"
      },
      "execution_count": null,
      "outputs": [
        {
          "output_type": "execute_result",
          "data": {
            "text/plain": [
              "{'mean-mae_score': 0.8903336342465337}"
            ]
          },
          "metadata": {},
          "execution_count": 18
        }
      ]
    }
  ]
}